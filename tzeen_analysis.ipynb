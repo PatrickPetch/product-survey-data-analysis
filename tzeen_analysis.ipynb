{
 "cells": [
  {
   "cell_type": "code",
   "execution_count": 1,
   "id": "77865056",
   "metadata": {},
   "outputs": [],
   "source": [
    "import numpy as np\n",
    "import pandas as pd\n",
    "import matplotlib.pyplot as plt\n",
    "from mlxtend.preprocessing import TransactionEncoder\n",
    "from mlxtend.frequent_patterns import apriori\n",
    "from mlxtend.frequent_patterns import association_rules"
   ]
  },
  {
   "cell_type": "code",
   "execution_count": 2,
   "id": "9c35659a",
   "metadata": {},
   "outputs": [],
   "source": [
    "data = pd.read_csv('stringed_survey.csv')"
   ]
  },
  {
   "cell_type": "markdown",
   "id": "335268ab",
   "metadata": {},
   "source": [
    "# 1. Generate Association Rules from Purchasing Factors"
   ]
  },
  {
   "cell_type": "code",
   "execution_count": 3,
   "id": "011ff0ae",
   "metadata": {},
   "outputs": [],
   "source": [
    "factors_data = [[]] * len(data['FactorsPurchase'])\n",
    "\n",
    "for i in range(len(data['FactorsPurchase'])):\n",
    "    if data['FactorsPurchase'][i] is not np.nan:\n",
    "        factors_data[i] = data['FactorsPurchase'][i].split(';')\n",
    "    else:\n",
    "        factors_data[i] = []\n",
    "\n",
    "te = TransactionEncoder()\n",
    "te_ary = te.fit(factors_data).transform(factors_data)\n",
    "factors_df = pd.DataFrame(te_ary, columns=te.columns_)"
   ]
  },
  {
   "cell_type": "markdown",
   "id": "21e6ba0a",
   "metadata": {},
   "source": [
    "### Generate frequent itemsets with minimum support of 50%"
   ]
  },
  {
   "cell_type": "code",
   "execution_count": 4,
   "id": "2b7238c7",
   "metadata": {},
   "outputs": [
    {
     "data": {
      "text/html": [
       "<div>\n",
       "<style scoped>\n",
       "    .dataframe tbody tr th:only-of-type {\n",
       "        vertical-align: middle;\n",
       "    }\n",
       "\n",
       "    .dataframe tbody tr th {\n",
       "        vertical-align: top;\n",
       "    }\n",
       "\n",
       "    .dataframe thead th {\n",
       "        text-align: right;\n",
       "    }\n",
       "</style>\n",
       "<table border=\"1\" class=\"dataframe\">\n",
       "  <thead>\n",
       "    <tr style=\"text-align: right;\">\n",
       "      <th></th>\n",
       "      <th>support</th>\n",
       "      <th>itemsets</th>\n",
       "    </tr>\n",
       "  </thead>\n",
       "  <tbody>\n",
       "    <tr>\n",
       "      <th>0</th>\n",
       "      <td>0.60</td>\n",
       "      <td>(Aesthetics)</td>\n",
       "    </tr>\n",
       "    <tr>\n",
       "      <th>1</th>\n",
       "      <td>0.60</td>\n",
       "      <td>(Brand name)</td>\n",
       "    </tr>\n",
       "    <tr>\n",
       "      <th>2</th>\n",
       "      <td>0.68</td>\n",
       "      <td>(Functionality)</td>\n",
       "    </tr>\n",
       "    <tr>\n",
       "      <th>3</th>\n",
       "      <td>0.90</td>\n",
       "      <td>(Price)</td>\n",
       "    </tr>\n",
       "    <tr>\n",
       "      <th>4</th>\n",
       "      <td>0.50</td>\n",
       "      <td>(Size)</td>\n",
       "    </tr>\n",
       "    <tr>\n",
       "      <th>5</th>\n",
       "      <td>0.64</td>\n",
       "      <td>(Technological features)</td>\n",
       "    </tr>\n",
       "    <tr>\n",
       "      <th>6</th>\n",
       "      <td>0.56</td>\n",
       "      <td>(Price, Aesthetics)</td>\n",
       "    </tr>\n",
       "    <tr>\n",
       "      <th>7</th>\n",
       "      <td>0.56</td>\n",
       "      <td>(Brand name, Price)</td>\n",
       "    </tr>\n",
       "    <tr>\n",
       "      <th>8</th>\n",
       "      <td>0.62</td>\n",
       "      <td>(Functionality, Price)</td>\n",
       "    </tr>\n",
       "    <tr>\n",
       "      <th>9</th>\n",
       "      <td>0.50</td>\n",
       "      <td>(Functionality, Technological features)</td>\n",
       "    </tr>\n",
       "    <tr>\n",
       "      <th>10</th>\n",
       "      <td>0.58</td>\n",
       "      <td>(Price, Technological features)</td>\n",
       "    </tr>\n",
       "  </tbody>\n",
       "</table>\n",
       "</div>"
      ],
      "text/plain": [
       "    support                                 itemsets\n",
       "0      0.60                             (Aesthetics)\n",
       "1      0.60                             (Brand name)\n",
       "2      0.68                          (Functionality)\n",
       "3      0.90                                  (Price)\n",
       "4      0.50                                   (Size)\n",
       "5      0.64                 (Technological features)\n",
       "6      0.56                      (Price, Aesthetics)\n",
       "7      0.56                      (Brand name, Price)\n",
       "8      0.62                   (Functionality, Price)\n",
       "9      0.50  (Functionality, Technological features)\n",
       "10     0.58          (Price, Technological features)"
      ]
     },
     "execution_count": 4,
     "metadata": {},
     "output_type": "execute_result"
    }
   ],
   "source": [
    "frequent_itemsets = apriori(factors_df, min_support=0.5, use_colnames=True)\n",
    "frequent_itemsets"
   ]
  },
  {
   "cell_type": "markdown",
   "id": "7fb58745",
   "metadata": {},
   "source": [
    "### Generate association rules with minimum confidence of 75%"
   ]
  },
  {
   "cell_type": "code",
   "execution_count": 5,
   "id": "d88ccdbb",
   "metadata": {},
   "outputs": [
    {
     "data": {
      "text/html": [
       "<div>\n",
       "<style scoped>\n",
       "    .dataframe tbody tr th:only-of-type {\n",
       "        vertical-align: middle;\n",
       "    }\n",
       "\n",
       "    .dataframe tbody tr th {\n",
       "        vertical-align: top;\n",
       "    }\n",
       "\n",
       "    .dataframe thead th {\n",
       "        text-align: right;\n",
       "    }\n",
       "</style>\n",
       "<table border=\"1\" class=\"dataframe\">\n",
       "  <thead>\n",
       "    <tr style=\"text-align: right;\">\n",
       "      <th></th>\n",
       "      <th>antecedents</th>\n",
       "      <th>consequents</th>\n",
       "      <th>antecedent support</th>\n",
       "      <th>consequent support</th>\n",
       "      <th>support</th>\n",
       "      <th>confidence</th>\n",
       "      <th>lift</th>\n",
       "      <th>leverage</th>\n",
       "      <th>conviction</th>\n",
       "    </tr>\n",
       "  </thead>\n",
       "  <tbody>\n",
       "    <tr>\n",
       "      <th>0</th>\n",
       "      <td>(Aesthetics)</td>\n",
       "      <td>(Price)</td>\n",
       "      <td>0.60</td>\n",
       "      <td>0.90</td>\n",
       "      <td>0.56</td>\n",
       "      <td>0.933333</td>\n",
       "      <td>1.037037</td>\n",
       "      <td>0.0200</td>\n",
       "      <td>1.500000</td>\n",
       "    </tr>\n",
       "    <tr>\n",
       "      <th>1</th>\n",
       "      <td>(Brand name)</td>\n",
       "      <td>(Price)</td>\n",
       "      <td>0.60</td>\n",
       "      <td>0.90</td>\n",
       "      <td>0.56</td>\n",
       "      <td>0.933333</td>\n",
       "      <td>1.037037</td>\n",
       "      <td>0.0200</td>\n",
       "      <td>1.500000</td>\n",
       "    </tr>\n",
       "    <tr>\n",
       "      <th>2</th>\n",
       "      <td>(Functionality)</td>\n",
       "      <td>(Price)</td>\n",
       "      <td>0.68</td>\n",
       "      <td>0.90</td>\n",
       "      <td>0.62</td>\n",
       "      <td>0.911765</td>\n",
       "      <td>1.013072</td>\n",
       "      <td>0.0080</td>\n",
       "      <td>1.133333</td>\n",
       "    </tr>\n",
       "    <tr>\n",
       "      <th>3</th>\n",
       "      <td>(Technological features)</td>\n",
       "      <td>(Functionality)</td>\n",
       "      <td>0.64</td>\n",
       "      <td>0.68</td>\n",
       "      <td>0.50</td>\n",
       "      <td>0.781250</td>\n",
       "      <td>1.148897</td>\n",
       "      <td>0.0648</td>\n",
       "      <td>1.462857</td>\n",
       "    </tr>\n",
       "    <tr>\n",
       "      <th>4</th>\n",
       "      <td>(Technological features)</td>\n",
       "      <td>(Price)</td>\n",
       "      <td>0.64</td>\n",
       "      <td>0.90</td>\n",
       "      <td>0.58</td>\n",
       "      <td>0.906250</td>\n",
       "      <td>1.006944</td>\n",
       "      <td>0.0040</td>\n",
       "      <td>1.066667</td>\n",
       "    </tr>\n",
       "  </tbody>\n",
       "</table>\n",
       "</div>"
      ],
      "text/plain": [
       "                antecedents      consequents  antecedent support  \\\n",
       "0              (Aesthetics)          (Price)                0.60   \n",
       "1              (Brand name)          (Price)                0.60   \n",
       "2           (Functionality)          (Price)                0.68   \n",
       "3  (Technological features)  (Functionality)                0.64   \n",
       "4  (Technological features)          (Price)                0.64   \n",
       "\n",
       "   consequent support  support  confidence      lift  leverage  conviction  \n",
       "0                0.90     0.56    0.933333  1.037037    0.0200    1.500000  \n",
       "1                0.90     0.56    0.933333  1.037037    0.0200    1.500000  \n",
       "2                0.90     0.62    0.911765  1.013072    0.0080    1.133333  \n",
       "3                0.68     0.50    0.781250  1.148897    0.0648    1.462857  \n",
       "4                0.90     0.58    0.906250  1.006944    0.0040    1.066667  "
      ]
     },
     "execution_count": 5,
     "metadata": {},
     "output_type": "execute_result"
    }
   ],
   "source": [
    "factors_association_rules = association_rules(frequent_itemsets, metric=\"confidence\", min_threshold=0.75)\n",
    "factors_association_rules"
   ]
  },
  {
   "cell_type": "markdown",
   "id": "db8a7d14",
   "metadata": {},
   "source": [
    "# 2. Generate Association Rules from Exterior Components"
   ]
  },
  {
   "cell_type": "code",
   "execution_count": 6,
   "id": "948b8516",
   "metadata": {},
   "outputs": [],
   "source": [
    "exterior_data = [[]] * len(data['ExteriorComponents'])\n",
    "\n",
    "for i in range(len(data['ExteriorComponents'])):\n",
    "    if data['ExteriorComponents'][i] is not np.nan:\n",
    "        exterior_data[i] = data['ExteriorComponents'][i].split(';')\n",
    "    else:\n",
    "        exterior_data[i] = []\n",
    "\n",
    "te = TransactionEncoder()\n",
    "te_ary = te.fit(exterior_data).transform(exterior_data)\n",
    "exterior_df = pd.DataFrame(te_ary, columns=te.columns_)"
   ]
  },
  {
   "cell_type": "markdown",
   "id": "4659f968",
   "metadata": {},
   "source": [
    "### Generate frequent itemsets with minimum support of 25%"
   ]
  },
  {
   "cell_type": "code",
   "execution_count": 7,
   "id": "6b53e6a9",
   "metadata": {
    "scrolled": true
   },
   "outputs": [
    {
     "data": {
      "text/html": [
       "<div>\n",
       "<style scoped>\n",
       "    .dataframe tbody tr th:only-of-type {\n",
       "        vertical-align: middle;\n",
       "    }\n",
       "\n",
       "    .dataframe tbody tr th {\n",
       "        vertical-align: top;\n",
       "    }\n",
       "\n",
       "    .dataframe thead th {\n",
       "        text-align: right;\n",
       "    }\n",
       "</style>\n",
       "<table border=\"1\" class=\"dataframe\">\n",
       "  <thead>\n",
       "    <tr style=\"text-align: right;\">\n",
       "      <th></th>\n",
       "      <th>support</th>\n",
       "      <th>itemsets</th>\n",
       "    </tr>\n",
       "  </thead>\n",
       "  <tbody>\n",
       "    <tr>\n",
       "      <th>0</th>\n",
       "      <td>0.42</td>\n",
       "      <td>(Bumpers)</td>\n",
       "    </tr>\n",
       "    <tr>\n",
       "      <th>1</th>\n",
       "      <td>0.36</td>\n",
       "      <td>(Grilles)</td>\n",
       "    </tr>\n",
       "    <tr>\n",
       "      <th>2</th>\n",
       "      <td>0.44</td>\n",
       "      <td>(Headlights)</td>\n",
       "    </tr>\n",
       "    <tr>\n",
       "      <th>3</th>\n",
       "      <td>0.32</td>\n",
       "      <td>(Side mirrors)</td>\n",
       "    </tr>\n",
       "    <tr>\n",
       "      <th>4</th>\n",
       "      <td>0.66</td>\n",
       "      <td>(Wheels)</td>\n",
       "    </tr>\n",
       "    <tr>\n",
       "      <th>5</th>\n",
       "      <td>0.34</td>\n",
       "      <td>(Headlights, Wheels)</td>\n",
       "    </tr>\n",
       "  </tbody>\n",
       "</table>\n",
       "</div>"
      ],
      "text/plain": [
       "   support              itemsets\n",
       "0     0.42             (Bumpers)\n",
       "1     0.36             (Grilles)\n",
       "2     0.44          (Headlights)\n",
       "3     0.32        (Side mirrors)\n",
       "4     0.66              (Wheels)\n",
       "5     0.34  (Headlights, Wheels)"
      ]
     },
     "execution_count": 7,
     "metadata": {},
     "output_type": "execute_result"
    }
   ],
   "source": [
    "frequent_itemsets = apriori(exterior_df, min_support=0.25, use_colnames=True)\n",
    "frequent_itemsets"
   ]
  },
  {
   "cell_type": "markdown",
   "id": "b78942fb",
   "metadata": {},
   "source": [
    "### Generate association rules with minimum confidence of 75%"
   ]
  },
  {
   "cell_type": "code",
   "execution_count": 8,
   "id": "71bee8db",
   "metadata": {},
   "outputs": [
    {
     "data": {
      "text/html": [
       "<div>\n",
       "<style scoped>\n",
       "    .dataframe tbody tr th:only-of-type {\n",
       "        vertical-align: middle;\n",
       "    }\n",
       "\n",
       "    .dataframe tbody tr th {\n",
       "        vertical-align: top;\n",
       "    }\n",
       "\n",
       "    .dataframe thead th {\n",
       "        text-align: right;\n",
       "    }\n",
       "</style>\n",
       "<table border=\"1\" class=\"dataframe\">\n",
       "  <thead>\n",
       "    <tr style=\"text-align: right;\">\n",
       "      <th></th>\n",
       "      <th>antecedents</th>\n",
       "      <th>consequents</th>\n",
       "      <th>antecedent support</th>\n",
       "      <th>consequent support</th>\n",
       "      <th>support</th>\n",
       "      <th>confidence</th>\n",
       "      <th>lift</th>\n",
       "      <th>leverage</th>\n",
       "      <th>conviction</th>\n",
       "    </tr>\n",
       "  </thead>\n",
       "  <tbody>\n",
       "    <tr>\n",
       "      <th>0</th>\n",
       "      <td>(Headlights)</td>\n",
       "      <td>(Wheels)</td>\n",
       "      <td>0.44</td>\n",
       "      <td>0.66</td>\n",
       "      <td>0.34</td>\n",
       "      <td>0.772727</td>\n",
       "      <td>1.170799</td>\n",
       "      <td>0.0496</td>\n",
       "      <td>1.496</td>\n",
       "    </tr>\n",
       "  </tbody>\n",
       "</table>\n",
       "</div>"
      ],
      "text/plain": [
       "    antecedents consequents  antecedent support  consequent support  support  \\\n",
       "0  (Headlights)    (Wheels)                0.44                0.66     0.34   \n",
       "\n",
       "   confidence      lift  leverage  conviction  \n",
       "0    0.772727  1.170799    0.0496       1.496  "
      ]
     },
     "execution_count": 8,
     "metadata": {},
     "output_type": "execute_result"
    }
   ],
   "source": [
    "exterior_association_rules = association_rules(frequent_itemsets, metric=\"confidence\", min_threshold=0.75)\n",
    "exterior_association_rules"
   ]
  },
  {
   "cell_type": "markdown",
   "id": "5f281c9c",
   "metadata": {},
   "source": [
    "# 3. Generate Association Rules from Interior Components"
   ]
  },
  {
   "cell_type": "code",
   "execution_count": 9,
   "id": "ada8cd18",
   "metadata": {},
   "outputs": [],
   "source": [
    "interior_data = [[]] * len(data['InteriorComponents'])\n",
    "\n",
    "for i in range(len(data['InteriorComponents'])):\n",
    "    if data['InteriorComponents'][i] is not np.nan:\n",
    "        interior_data[i] = data['InteriorComponents'][i].split(';')\n",
    "    else:\n",
    "        interior_data[i] = []\n",
    "\n",
    "te = TransactionEncoder()\n",
    "te_ary = te.fit(interior_data).transform(interior_data)\n",
    "interior_df = pd.DataFrame(te_ary, columns=te.columns_)"
   ]
  },
  {
   "cell_type": "markdown",
   "id": "73f5d2bd",
   "metadata": {},
   "source": [
    "### Generate frequent itemsets with minimum support of 25%"
   ]
  },
  {
   "cell_type": "code",
   "execution_count": 10,
   "id": "cba062d8",
   "metadata": {},
   "outputs": [
    {
     "data": {
      "text/html": [
       "<div>\n",
       "<style scoped>\n",
       "    .dataframe tbody tr th:only-of-type {\n",
       "        vertical-align: middle;\n",
       "    }\n",
       "\n",
       "    .dataframe tbody tr th {\n",
       "        vertical-align: top;\n",
       "    }\n",
       "\n",
       "    .dataframe thead th {\n",
       "        text-align: right;\n",
       "    }\n",
       "</style>\n",
       "<table border=\"1\" class=\"dataframe\">\n",
       "  <thead>\n",
       "    <tr style=\"text-align: right;\">\n",
       "      <th></th>\n",
       "      <th>support</th>\n",
       "      <th>itemsets</th>\n",
       "    </tr>\n",
       "  </thead>\n",
       "  <tbody>\n",
       "    <tr>\n",
       "      <th>0</th>\n",
       "      <td>0.48</td>\n",
       "      <td>(Centre compartment)</td>\n",
       "    </tr>\n",
       "    <tr>\n",
       "      <th>1</th>\n",
       "      <td>0.84</td>\n",
       "      <td>(Dashboard)</td>\n",
       "    </tr>\n",
       "    <tr>\n",
       "      <th>2</th>\n",
       "      <td>0.36</td>\n",
       "      <td>(Door handles)</td>\n",
       "    </tr>\n",
       "    <tr>\n",
       "      <th>3</th>\n",
       "      <td>0.60</td>\n",
       "      <td>(Steering wheel)</td>\n",
       "    </tr>\n",
       "    <tr>\n",
       "      <th>4</th>\n",
       "      <td>0.42</td>\n",
       "      <td>(Centre compartment, Dashboard)</td>\n",
       "    </tr>\n",
       "    <tr>\n",
       "      <th>5</th>\n",
       "      <td>0.32</td>\n",
       "      <td>(Centre compartment, Steering wheel)</td>\n",
       "    </tr>\n",
       "    <tr>\n",
       "      <th>6</th>\n",
       "      <td>0.30</td>\n",
       "      <td>(Dashboard, Door handles)</td>\n",
       "    </tr>\n",
       "    <tr>\n",
       "      <th>7</th>\n",
       "      <td>0.48</td>\n",
       "      <td>(Dashboard, Steering wheel)</td>\n",
       "    </tr>\n",
       "    <tr>\n",
       "      <th>8</th>\n",
       "      <td>0.28</td>\n",
       "      <td>(Door handles, Steering wheel)</td>\n",
       "    </tr>\n",
       "    <tr>\n",
       "      <th>9</th>\n",
       "      <td>0.28</td>\n",
       "      <td>(Centre compartment, Dashboard, Steering wheel)</td>\n",
       "    </tr>\n",
       "  </tbody>\n",
       "</table>\n",
       "</div>"
      ],
      "text/plain": [
       "   support                                         itemsets\n",
       "0     0.48                             (Centre compartment)\n",
       "1     0.84                                      (Dashboard)\n",
       "2     0.36                                   (Door handles)\n",
       "3     0.60                                 (Steering wheel)\n",
       "4     0.42                  (Centre compartment, Dashboard)\n",
       "5     0.32             (Centre compartment, Steering wheel)\n",
       "6     0.30                        (Dashboard, Door handles)\n",
       "7     0.48                      (Dashboard, Steering wheel)\n",
       "8     0.28                   (Door handles, Steering wheel)\n",
       "9     0.28  (Centre compartment, Dashboard, Steering wheel)"
      ]
     },
     "execution_count": 10,
     "metadata": {},
     "output_type": "execute_result"
    }
   ],
   "source": [
    "frequent_itemsets = apriori(interior_df, min_support=0.25, use_colnames=True)\n",
    "frequent_itemsets"
   ]
  },
  {
   "cell_type": "markdown",
   "id": "c976db5f",
   "metadata": {},
   "source": [
    "### Generate association rules with minimum confidence of 75%"
   ]
  },
  {
   "cell_type": "code",
   "execution_count": 11,
   "id": "775ef140",
   "metadata": {},
   "outputs": [
    {
     "data": {
      "text/html": [
       "<div>\n",
       "<style scoped>\n",
       "    .dataframe tbody tr th:only-of-type {\n",
       "        vertical-align: middle;\n",
       "    }\n",
       "\n",
       "    .dataframe tbody tr th {\n",
       "        vertical-align: top;\n",
       "    }\n",
       "\n",
       "    .dataframe thead th {\n",
       "        text-align: right;\n",
       "    }\n",
       "</style>\n",
       "<table border=\"1\" class=\"dataframe\">\n",
       "  <thead>\n",
       "    <tr style=\"text-align: right;\">\n",
       "      <th></th>\n",
       "      <th>antecedents</th>\n",
       "      <th>consequents</th>\n",
       "      <th>antecedent support</th>\n",
       "      <th>consequent support</th>\n",
       "      <th>support</th>\n",
       "      <th>confidence</th>\n",
       "      <th>lift</th>\n",
       "      <th>leverage</th>\n",
       "      <th>conviction</th>\n",
       "    </tr>\n",
       "  </thead>\n",
       "  <tbody>\n",
       "    <tr>\n",
       "      <th>0</th>\n",
       "      <td>(Centre compartment)</td>\n",
       "      <td>(Dashboard)</td>\n",
       "      <td>0.48</td>\n",
       "      <td>0.84</td>\n",
       "      <td>0.42</td>\n",
       "      <td>0.875000</td>\n",
       "      <td>1.041667</td>\n",
       "      <td>0.0168</td>\n",
       "      <td>1.28</td>\n",
       "    </tr>\n",
       "    <tr>\n",
       "      <th>1</th>\n",
       "      <td>(Door handles)</td>\n",
       "      <td>(Dashboard)</td>\n",
       "      <td>0.36</td>\n",
       "      <td>0.84</td>\n",
       "      <td>0.30</td>\n",
       "      <td>0.833333</td>\n",
       "      <td>0.992063</td>\n",
       "      <td>-0.0024</td>\n",
       "      <td>0.96</td>\n",
       "    </tr>\n",
       "    <tr>\n",
       "      <th>2</th>\n",
       "      <td>(Steering wheel)</td>\n",
       "      <td>(Dashboard)</td>\n",
       "      <td>0.60</td>\n",
       "      <td>0.84</td>\n",
       "      <td>0.48</td>\n",
       "      <td>0.800000</td>\n",
       "      <td>0.952381</td>\n",
       "      <td>-0.0240</td>\n",
       "      <td>0.80</td>\n",
       "    </tr>\n",
       "    <tr>\n",
       "      <th>3</th>\n",
       "      <td>(Door handles)</td>\n",
       "      <td>(Steering wheel)</td>\n",
       "      <td>0.36</td>\n",
       "      <td>0.60</td>\n",
       "      <td>0.28</td>\n",
       "      <td>0.777778</td>\n",
       "      <td>1.296296</td>\n",
       "      <td>0.0640</td>\n",
       "      <td>1.80</td>\n",
       "    </tr>\n",
       "    <tr>\n",
       "      <th>4</th>\n",
       "      <td>(Centre compartment, Steering wheel)</td>\n",
       "      <td>(Dashboard)</td>\n",
       "      <td>0.32</td>\n",
       "      <td>0.84</td>\n",
       "      <td>0.28</td>\n",
       "      <td>0.875000</td>\n",
       "      <td>1.041667</td>\n",
       "      <td>0.0112</td>\n",
       "      <td>1.28</td>\n",
       "    </tr>\n",
       "  </tbody>\n",
       "</table>\n",
       "</div>"
      ],
      "text/plain": [
       "                            antecedents       consequents  antecedent support  \\\n",
       "0                  (Centre compartment)       (Dashboard)                0.48   \n",
       "1                        (Door handles)       (Dashboard)                0.36   \n",
       "2                      (Steering wheel)       (Dashboard)                0.60   \n",
       "3                        (Door handles)  (Steering wheel)                0.36   \n",
       "4  (Centre compartment, Steering wheel)       (Dashboard)                0.32   \n",
       "\n",
       "   consequent support  support  confidence      lift  leverage  conviction  \n",
       "0                0.84     0.42    0.875000  1.041667    0.0168        1.28  \n",
       "1                0.84     0.30    0.833333  0.992063   -0.0024        0.96  \n",
       "2                0.84     0.48    0.800000  0.952381   -0.0240        0.80  \n",
       "3                0.60     0.28    0.777778  1.296296    0.0640        1.80  \n",
       "4                0.84     0.28    0.875000  1.041667    0.0112        1.28  "
      ]
     },
     "execution_count": 11,
     "metadata": {},
     "output_type": "execute_result"
    }
   ],
   "source": [
    "interior_association_rules = association_rules(frequent_itemsets, metric=\"confidence\", min_threshold=0.75)\n",
    "interior_association_rules"
   ]
  },
  {
   "cell_type": "markdown",
   "id": "7b6053eb",
   "metadata": {},
   "source": [
    "# 4. Effect of Category on Components to Customize"
   ]
  },
  {
   "cell_type": "markdown",
   "id": "8a2cd47d",
   "metadata": {},
   "source": [
    "### For exterior components"
   ]
  },
  {
   "cell_type": "code",
   "execution_count": 128,
   "id": "29f95648",
   "metadata": {
    "scrolled": true
   },
   "outputs": [
    {
     "data": {
      "text/plain": [
       "Text(0.5, 0.98, 'Effect of Category on Exterior Components to Customize')"
      ]
     },
     "execution_count": 128,
     "metadata": {},
     "output_type": "execute_result"
    },
    {
     "data": {
      "image/png": "[encoded data removed]",
      "text/plain": [
       "<Figure size 936x288 with 3 Axes>"
      ]
     },
     "metadata": {
      "needs_background": "light"
     },
     "output_type": "display_data"
    }
   ],
   "source": [
    "fig, ax = plt.subplots(1,3, figsize=(13,4))\n",
    "fig.tight_layout(pad=5.0)\n",
    "\n",
    "category_list = ['Do not own a car, but planning to purchase in future', 'Own a car', 'Own more than one car']\n",
    "dict0 = {}\n",
    "dict1 = {}\n",
    "dict2 = {}\n",
    "dict_list = [dict0, dict1, dict2]\n",
    "for dictx in dict_list:\n",
    "    dictx['Wheels'] = 0\n",
    "    dictx['Grilles'] = 0\n",
    "    dictx['Side mirrors'] = 0\n",
    "    dictx['Bumpers'] = 0\n",
    "    dictx['Headlights'] = 0\n",
    "    dictx['add body kit and change the exhaust and tune the engine'] = 0\n",
    "\n",
    "for i in range(len(category_list)):\n",
    "    for exteriors in data['ExteriorComponents'][data['Category']==category_list[i]]:\n",
    "        if exteriors is not np.nan:\n",
    "            for exterior in exteriors.split(';'):\n",
    "                dict_list[i][exterior] += 1\n",
    "    \n",
    "    dict_list[i]['Other'] = dict_list[i]['add body kit and change the exhaust and tune the engine']\n",
    "    del dict_list[i]['add body kit and change the exhaust and tune the engine']\n",
    "    \n",
    "    exteriors = list(dict_list[i].keys())\n",
    "    frequencies = list(dict_list[i].values())\n",
    "    \n",
    "    ax[i].barh(exteriors, frequencies)\n",
    "    ax[i].set_xlabel('Frequency')\n",
    "    \n",
    "ax[0].set_title('No Car')\n",
    "ax[1].set_title('One Car')\n",
    "ax[2].set_title('More than One Car')\n",
    "fig.suptitle('Effect of Category on Exterior Components to Customize')"
   ]
  },
  {
   "cell_type": "markdown",
   "id": "a0ae238f",
   "metadata": {},
   "source": [
    "### For interior components"
   ]
  },
  {
   "cell_type": "code",
   "execution_count": 126,
   "id": "804b91c9",
   "metadata": {},
   "outputs": [
    {
     "data": {
      "text/plain": [
       "Text(0.5, 0.98, 'Effect of Category on Interior Components to Customize')"
      ]
     },
     "execution_count": 126,
     "metadata": {},
     "output_type": "execute_result"
    },
    {
     "data": {
      "image/png": "[encoded data removed]",
      "text/plain": [
       "<Figure size 1008x432 with 3 Axes>"
      ]
     },
     "metadata": {
      "needs_background": "light"
     },
     "output_type": "display_data"
    }
   ],
   "source": [
    "fig, ax = plt.subplots(1,3, figsize=(14,6))\n",
    "# fig.tight_layout(pad=9.0)\n",
    "plt.subplots_adjust(left=0.1,\n",
    "                    bottom=0.4,\n",
    "                    right=0.9,\n",
    "                    top=0.9,\n",
    "                    wspace=0.6,\n",
    "                    hspace=0.4)\n",
    "\n",
    "category_list = ['Do not own a car, but planning to purchase in future', 'Own a car', 'Own more than one car']\n",
    "dict0 = {}\n",
    "dict1 = {}\n",
    "dict2 = {}\n",
    "dict_list = [dict0, dict1, dict2]\n",
    "for dictx in dict_list:\n",
    "    dictx['Steering wheel'] = 0\n",
    "    dictx['Dashboard'] = 0\n",
    "    dictx['Centre compartment'] = 0\n",
    "    dictx['Sun blocker for front passengers'] = 0\n",
    "    dictx['Door handles'] = 0\n",
    "    dictx['Music Player and sound systems'] = 0\n",
    "    dictx['air vent'] = 0\n",
    "\n",
    "for i in range(len(category_list)):\n",
    "    for interiors in data['InteriorComponents'][data['Category']==category_list[i]]:\n",
    "        if interiors is not np.nan:\n",
    "            for interior in interiors.split(';'):\n",
    "                dict_list[i][interior] += 1\n",
    "            \n",
    "    dict_list[i]['Sun Blocker'] = dict_list[i]['Sun blocker for front passengers']\n",
    "    del dict_list[i]['Sun blocker for front passengers']\n",
    "    \n",
    "    dict_list[i]['Sound systems'] = dict_list[i]['Music Player and sound systems']\n",
    "    del dict_list[i]['Music Player and sound systems']\n",
    "    \n",
    "    interiors = list(dict_list[i].keys())\n",
    "    frequencies = list(dict_list[i].values())\n",
    "    \n",
    "    ax[i].barh(interiors, frequencies)\n",
    "    ax[i].set_xlabel('Frequency')\n",
    "    \n",
    "ax[0].set_title('No Car')\n",
    "ax[1].set_title('One Car')\n",
    "ax[2].set_title('More than One Car')\n",
    "fig.suptitle('Effect of Category on Interior Components to Customize')"
   ]
  },
  {
   "cell_type": "code",
   "execution_count": null,
   "id": "c37d773e",
   "metadata": {},
   "outputs": [],
   "source": []
  }
 ],
 "metadata": {
  "kernelspec": {
   "display_name": "Python 3 (ipykernel)",
   "language": "python",
   "name": "python3"
  },
  "language_info": {
   "codemirror_mode": {
    "name": "ipython",
    "version": 3
   },
   "file_extension": ".py",
   "mimetype": "text/x-python",
   "name": "python",
   "nbconvert_exporter": "python",
   "pygments_lexer": "ipython3",
   "version": "3.9.12"
  }
 },
 "nbformat": 4,
 "nbformat_minor": 5
}
