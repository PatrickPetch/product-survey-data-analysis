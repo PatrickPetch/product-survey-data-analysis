{
 "cells": [
  {
   "cell_type": "code",
   "execution_count": 1,
   "id": "77865056",
   "metadata": {},
   "outputs": [],
   "source": [
    "import numpy as np\n",
    "import pandas as pd\n",
    "import matplotlib.pyplot as plt\n",
    "from mlxtend.preprocessing import TransactionEncoder\n",
    "from mlxtend.frequent_patterns import apriori\n",
    "from mlxtend.frequent_patterns import association_rules"
   ]
  },
  {
   "cell_type": "code",
   "execution_count": 2,
   "id": "9c35659a",
   "metadata": {},
   "outputs": [],
   "source": [
    "data = pd.read_csv('stringed_survey.csv')"
   ]
  },
  {
   "cell_type": "markdown",
   "id": "335268ab",
   "metadata": {},
   "source": [
    "# 1. Generate Association Rules from Purchasing Factors"
   ]
  },
  {
   "cell_type": "code",
   "execution_count": 3,
   "id": "011ff0ae",
   "metadata": {},
   "outputs": [],
   "source": [
    "factors_data = [[]] * len(data['FactorsPurchase'])\n",
    "\n",
    "for i in range(len(data['FactorsPurchase'])):\n",
    "    if data['FactorsPurchase'][i] is not np.nan:\n",
    "        factors_data[i] = data['FactorsPurchase'][i].split(';')\n",
    "    else:\n",
    "        factors_data[i] = []\n",
    "\n",
    "te = TransactionEncoder()\n",
    "te_ary = te.fit(factors_data).transform(factors_data)\n",
    "factors_df = pd.DataFrame(te_ary, columns=te.columns_)"
   ]
  },
  {
   "cell_type": "markdown",
   "id": "21e6ba0a",
   "metadata": {},
   "source": [
    "### Generate frequent itemsets with minimum support of 50%"
   ]
  },
  {
   "cell_type": "code",
   "execution_count": 4,
   "id": "2b7238c7",
   "metadata": {},
   "outputs": [
    {
     "data": {
      "text/html": [
       "<div>\n",
       "<style scoped>\n",
       "    .dataframe tbody tr th:only-of-type {\n",
       "        vertical-align: middle;\n",
       "    }\n",
       "\n",
       "    .dataframe tbody tr th {\n",
       "        vertical-align: top;\n",
       "    }\n",
       "\n",
       "    .dataframe thead th {\n",
       "        text-align: right;\n",
       "    }\n",
       "</style>\n",
       "<table border=\"1\" class=\"dataframe\">\n",
       "  <thead>\n",
       "    <tr style=\"text-align: right;\">\n",
       "      <th></th>\n",
       "      <th>support</th>\n",
       "      <th>itemsets</th>\n",
       "    </tr>\n",
       "  </thead>\n",
       "  <tbody>\n",
       "    <tr>\n",
       "      <th>0</th>\n",
       "      <td>0.60</td>\n",
       "      <td>(Aesthetics)</td>\n",
       "    </tr>\n",
       "    <tr>\n",
       "      <th>1</th>\n",
       "      <td>0.60</td>\n",
       "      <td>(Brand name)</td>\n",
       "    </tr>\n",
       "    <tr>\n",
       "      <th>2</th>\n",
       "      <td>0.68</td>\n",
       "      <td>(Functionality)</td>\n",
       "    </tr>\n",
       "    <tr>\n",
       "      <th>3</th>\n",
       "      <td>0.90</td>\n",
       "      <td>(Price)</td>\n",
       "    </tr>\n",
       "    <tr>\n",
       "      <th>4</th>\n",
       "      <td>0.50</td>\n",
       "      <td>(Size)</td>\n",
       "    </tr>\n",
       "    <tr>\n",
       "      <th>5</th>\n",
       "      <td>0.64</td>\n",
       "      <td>(Technological features)</td>\n",
       "    </tr>\n",
       "    <tr>\n",
       "      <th>6</th>\n",
       "      <td>0.56</td>\n",
       "      <td>(Aesthetics, Price)</td>\n",
       "    </tr>\n",
       "    <tr>\n",
       "      <th>7</th>\n",
       "      <td>0.56</td>\n",
       "      <td>(Price, Brand name)</td>\n",
       "    </tr>\n",
       "    <tr>\n",
       "      <th>8</th>\n",
       "      <td>0.62</td>\n",
       "      <td>(Price, Functionality)</td>\n",
       "    </tr>\n",
       "    <tr>\n",
       "      <th>9</th>\n",
       "      <td>0.50</td>\n",
       "      <td>(Functionality, Technological features)</td>\n",
       "    </tr>\n",
       "    <tr>\n",
       "      <th>10</th>\n",
       "      <td>0.58</td>\n",
       "      <td>(Price, Technological features)</td>\n",
       "    </tr>\n",
       "  </tbody>\n",
       "</table>\n",
       "</div>"
      ],
      "text/plain": [
       "    support                                 itemsets\n",
       "0      0.60                             (Aesthetics)\n",
       "1      0.60                             (Brand name)\n",
       "2      0.68                          (Functionality)\n",
       "3      0.90                                  (Price)\n",
       "4      0.50                                   (Size)\n",
       "5      0.64                 (Technological features)\n",
       "6      0.56                      (Aesthetics, Price)\n",
       "7      0.56                      (Price, Brand name)\n",
       "8      0.62                   (Price, Functionality)\n",
       "9      0.50  (Functionality, Technological features)\n",
       "10     0.58          (Price, Technological features)"
      ]
     },
     "execution_count": 4,
     "metadata": {},
     "output_type": "execute_result"
    }
   ],
   "source": [
    "frequent_itemsets = apriori(factors_df, min_support=0.5, use_colnames=True)\n",
    "frequent_itemsets"
   ]
  },
  {
   "cell_type": "markdown",
   "id": "7fb58745",
   "metadata": {},
   "source": [
    "### Generate association rules with minimum confidence of 75%"
   ]
  },
  {
   "cell_type": "code",
   "execution_count": 5,
   "id": "d88ccdbb",
   "metadata": {},
   "outputs": [
    {
     "data": {
      "text/html": [
       "<div>\n",
       "<style scoped>\n",
       "    .dataframe tbody tr th:only-of-type {\n",
       "        vertical-align: middle;\n",
       "    }\n",
       "\n",
       "    .dataframe tbody tr th {\n",
       "        vertical-align: top;\n",
       "    }\n",
       "\n",
       "    .dataframe thead th {\n",
       "        text-align: right;\n",
       "    }\n",
       "</style>\n",
       "<table border=\"1\" class=\"dataframe\">\n",
       "  <thead>\n",
       "    <tr style=\"text-align: right;\">\n",
       "      <th></th>\n",
       "      <th>antecedents</th>\n",
       "      <th>consequents</th>\n",
       "      <th>antecedent support</th>\n",
       "      <th>consequent support</th>\n",
       "      <th>support</th>\n",
       "      <th>confidence</th>\n",
       "      <th>lift</th>\n",
       "      <th>leverage</th>\n",
       "      <th>conviction</th>\n",
       "    </tr>\n",
       "  </thead>\n",
       "  <tbody>\n",
       "    <tr>\n",
       "      <th>0</th>\n",
       "      <td>(Aesthetics)</td>\n",
       "      <td>(Price)</td>\n",
       "      <td>0.60</td>\n",
       "      <td>0.90</td>\n",
       "      <td>0.56</td>\n",
       "      <td>0.933333</td>\n",
       "      <td>1.037037</td>\n",
       "      <td>0.0200</td>\n",
       "      <td>1.500000</td>\n",
       "    </tr>\n",
       "    <tr>\n",
       "      <th>1</th>\n",
       "      <td>(Brand name)</td>\n",
       "      <td>(Price)</td>\n",
       "      <td>0.60</td>\n",
       "      <td>0.90</td>\n",
       "      <td>0.56</td>\n",
       "      <td>0.933333</td>\n",
       "      <td>1.037037</td>\n",
       "      <td>0.0200</td>\n",
       "      <td>1.500000</td>\n",
       "    </tr>\n",
       "    <tr>\n",
       "      <th>2</th>\n",
       "      <td>(Functionality)</td>\n",
       "      <td>(Price)</td>\n",
       "      <td>0.68</td>\n",
       "      <td>0.90</td>\n",
       "      <td>0.62</td>\n",
       "      <td>0.911765</td>\n",
       "      <td>1.013072</td>\n",
       "      <td>0.0080</td>\n",
       "      <td>1.133333</td>\n",
       "    </tr>\n",
       "    <tr>\n",
       "      <th>3</th>\n",
       "      <td>(Technological features)</td>\n",
       "      <td>(Functionality)</td>\n",
       "      <td>0.64</td>\n",
       "      <td>0.68</td>\n",
       "      <td>0.50</td>\n",
       "      <td>0.781250</td>\n",
       "      <td>1.148897</td>\n",
       "      <td>0.0648</td>\n",
       "      <td>1.462857</td>\n",
       "    </tr>\n",
       "    <tr>\n",
       "      <th>4</th>\n",
       "      <td>(Technological features)</td>\n",
       "      <td>(Price)</td>\n",
       "      <td>0.64</td>\n",
       "      <td>0.90</td>\n",
       "      <td>0.58</td>\n",
       "      <td>0.906250</td>\n",
       "      <td>1.006944</td>\n",
       "      <td>0.0040</td>\n",
       "      <td>1.066667</td>\n",
       "    </tr>\n",
       "  </tbody>\n",
       "</table>\n",
       "</div>"
      ],
      "text/plain": [
       "                antecedents      consequents  antecedent support  \\\n",
       "0              (Aesthetics)          (Price)                0.60   \n",
       "1              (Brand name)          (Price)                0.60   \n",
       "2           (Functionality)          (Price)                0.68   \n",
       "3  (Technological features)  (Functionality)                0.64   \n",
       "4  (Technological features)          (Price)                0.64   \n",
       "\n",
       "   consequent support  support  confidence      lift  leverage  conviction  \n",
       "0                0.90     0.56    0.933333  1.037037    0.0200    1.500000  \n",
       "1                0.90     0.56    0.933333  1.037037    0.0200    1.500000  \n",
       "2                0.90     0.62    0.911765  1.013072    0.0080    1.133333  \n",
       "3                0.68     0.50    0.781250  1.148897    0.0648    1.462857  \n",
       "4                0.90     0.58    0.906250  1.006944    0.0040    1.066667  "
      ]
     },
     "execution_count": 5,
     "metadata": {},
     "output_type": "execute_result"
    }
   ],
   "source": [
    "factors_association_rules = association_rules(frequent_itemsets, metric=\"confidence\", min_threshold=0.75)\n",
    "factors_association_rules"
   ]
  },
  {
   "cell_type": "markdown",
   "id": "db8a7d14",
   "metadata": {},
   "source": [
    "# 2. Generate Association Rules from Exterior Components"
   ]
  },
  {
   "cell_type": "code",
   "execution_count": 6,
   "id": "948b8516",
   "metadata": {},
   "outputs": [],
   "source": [
    "exterior_data = [[]] * len(data['ExteriorComponents'])\n",
    "\n",
    "for i in range(len(data['ExteriorComponents'])):\n",
    "    if data['ExteriorComponents'][i] is not np.nan:\n",
    "        exterior_data[i] = data['ExteriorComponents'][i].split(';')\n",
    "    else:\n",
    "        exterior_data[i] = []\n",
    "\n",
    "te = TransactionEncoder()\n",
    "te_ary = te.fit(exterior_data).transform(exterior_data)\n",
    "exterior_df = pd.DataFrame(te_ary, columns=te.columns_)"
   ]
  },
  {
   "cell_type": "markdown",
   "id": "4659f968",
   "metadata": {},
   "source": [
    "### Generate frequent itemsets with minimum support of 25%"
   ]
  },
  {
   "cell_type": "code",
   "execution_count": 7,
   "id": "6b53e6a9",
   "metadata": {
    "scrolled": true
   },
   "outputs": [
    {
     "data": {
      "text/html": [
       "<div>\n",
       "<style scoped>\n",
       "    .dataframe tbody tr th:only-of-type {\n",
       "        vertical-align: middle;\n",
       "    }\n",
       "\n",
       "    .dataframe tbody tr th {\n",
       "        vertical-align: top;\n",
       "    }\n",
       "\n",
       "    .dataframe thead th {\n",
       "        text-align: right;\n",
       "    }\n",
       "</style>\n",
       "<table border=\"1\" class=\"dataframe\">\n",
       "  <thead>\n",
       "    <tr style=\"text-align: right;\">\n",
       "      <th></th>\n",
       "      <th>support</th>\n",
       "      <th>itemsets</th>\n",
       "    </tr>\n",
       "  </thead>\n",
       "  <tbody>\n",
       "    <tr>\n",
       "      <th>0</th>\n",
       "      <td>0.42</td>\n",
       "      <td>(Bumpers)</td>\n",
       "    </tr>\n",
       "    <tr>\n",
       "      <th>1</th>\n",
       "      <td>0.36</td>\n",
       "      <td>(Grilles)</td>\n",
       "    </tr>\n",
       "    <tr>\n",
       "      <th>2</th>\n",
       "      <td>0.44</td>\n",
       "      <td>(Headlights)</td>\n",
       "    </tr>\n",
       "    <tr>\n",
       "      <th>3</th>\n",
       "      <td>0.32</td>\n",
       "      <td>(Side mirrors)</td>\n",
       "    </tr>\n",
       "    <tr>\n",
       "      <th>4</th>\n",
       "      <td>0.66</td>\n",
       "      <td>(Wheels)</td>\n",
       "    </tr>\n",
       "    <tr>\n",
       "      <th>5</th>\n",
       "      <td>0.34</td>\n",
       "      <td>(Headlights, Wheels)</td>\n",
       "    </tr>\n",
       "  </tbody>\n",
       "</table>\n",
       "</div>"
      ],
      "text/plain": [
       "   support              itemsets\n",
       "0     0.42             (Bumpers)\n",
       "1     0.36             (Grilles)\n",
       "2     0.44          (Headlights)\n",
       "3     0.32        (Side mirrors)\n",
       "4     0.66              (Wheels)\n",
       "5     0.34  (Headlights, Wheels)"
      ]
     },
     "execution_count": 7,
     "metadata": {},
     "output_type": "execute_result"
    }
   ],
   "source": [
    "frequent_itemsets = apriori(exterior_df, min_support=0.25, use_colnames=True)\n",
    "frequent_itemsets"
   ]
  },
  {
   "cell_type": "markdown",
   "id": "b78942fb",
   "metadata": {},
   "source": [
    "### Generate association rules with minimum confidence of 75%"
   ]
  },
  {
   "cell_type": "code",
   "execution_count": 8,
   "id": "71bee8db",
   "metadata": {},
   "outputs": [
    {
     "data": {
      "text/html": [
       "<div>\n",
       "<style scoped>\n",
       "    .dataframe tbody tr th:only-of-type {\n",
       "        vertical-align: middle;\n",
       "    }\n",
       "\n",
       "    .dataframe tbody tr th {\n",
       "        vertical-align: top;\n",
       "    }\n",
       "\n",
       "    .dataframe thead th {\n",
       "        text-align: right;\n",
       "    }\n",
       "</style>\n",
       "<table border=\"1\" class=\"dataframe\">\n",
       "  <thead>\n",
       "    <tr style=\"text-align: right;\">\n",
       "      <th></th>\n",
       "      <th>antecedents</th>\n",
       "      <th>consequents</th>\n",
       "      <th>antecedent support</th>\n",
       "      <th>consequent support</th>\n",
       "      <th>support</th>\n",
       "      <th>confidence</th>\n",
       "      <th>lift</th>\n",
       "      <th>leverage</th>\n",
       "      <th>conviction</th>\n",
       "    </tr>\n",
       "  </thead>\n",
       "  <tbody>\n",
       "    <tr>\n",
       "      <th>0</th>\n",
       "      <td>(Headlights)</td>\n",
       "      <td>(Wheels)</td>\n",
       "      <td>0.44</td>\n",
       "      <td>0.66</td>\n",
       "      <td>0.34</td>\n",
       "      <td>0.772727</td>\n",
       "      <td>1.170799</td>\n",
       "      <td>0.0496</td>\n",
       "      <td>1.496</td>\n",
       "    </tr>\n",
       "  </tbody>\n",
       "</table>\n",
       "</div>"
      ],
      "text/plain": [
       "    antecedents consequents  antecedent support  consequent support  support  \\\n",
       "0  (Headlights)    (Wheels)                0.44                0.66     0.34   \n",
       "\n",
       "   confidence      lift  leverage  conviction  \n",
       "0    0.772727  1.170799    0.0496       1.496  "
      ]
     },
     "execution_count": 8,
     "metadata": {},
     "output_type": "execute_result"
    }
   ],
   "source": [
    "exterior_association_rules = association_rules(frequent_itemsets, metric=\"confidence\", min_threshold=0.75)\n",
    "exterior_association_rules"
   ]
  },
  {
   "cell_type": "markdown",
   "id": "5f281c9c",
   "metadata": {},
   "source": [
    "# 3. Generate Association Rules from Interior Components"
   ]
  },
  {
   "cell_type": "code",
   "execution_count": 9,
   "id": "ada8cd18",
   "metadata": {},
   "outputs": [],
   "source": [
    "interior_data = [[]] * len(data['InteriorComponents'])\n",
    "\n",
    "for i in range(len(data['InteriorComponents'])):\n",
    "    if data['InteriorComponents'][i] is not np.nan:\n",
    "        interior_data[i] = data['InteriorComponents'][i].split(';')\n",
    "    else:\n",
    "        interior_data[i] = []\n",
    "\n",
    "te = TransactionEncoder()\n",
    "te_ary = te.fit(interior_data).transform(interior_data)\n",
    "interior_df = pd.DataFrame(te_ary, columns=te.columns_)"
   ]
  },
  {
   "cell_type": "markdown",
   "id": "73f5d2bd",
   "metadata": {},
   "source": [
    "### Generate frequent itemsets with minimum support of 50%"
   ]
  },
  {
   "cell_type": "code",
   "execution_count": 10,
   "id": "cba062d8",
   "metadata": {},
   "outputs": [
    {
     "data": {
      "text/html": [
       "<div>\n",
       "<style scoped>\n",
       "    .dataframe tbody tr th:only-of-type {\n",
       "        vertical-align: middle;\n",
       "    }\n",
       "\n",
       "    .dataframe tbody tr th {\n",
       "        vertical-align: top;\n",
       "    }\n",
       "\n",
       "    .dataframe thead th {\n",
       "        text-align: right;\n",
       "    }\n",
       "</style>\n",
       "<table border=\"1\" class=\"dataframe\">\n",
       "  <thead>\n",
       "    <tr style=\"text-align: right;\">\n",
       "      <th></th>\n",
       "      <th>support</th>\n",
       "      <th>itemsets</th>\n",
       "    </tr>\n",
       "  </thead>\n",
       "  <tbody>\n",
       "    <tr>\n",
       "      <th>0</th>\n",
       "      <td>0.48</td>\n",
       "      <td>(Centre compartment)</td>\n",
       "    </tr>\n",
       "    <tr>\n",
       "      <th>1</th>\n",
       "      <td>0.84</td>\n",
       "      <td>(Dashboard)</td>\n",
       "    </tr>\n",
       "    <tr>\n",
       "      <th>2</th>\n",
       "      <td>0.60</td>\n",
       "      <td>(Steering wheel)</td>\n",
       "    </tr>\n",
       "    <tr>\n",
       "      <th>3</th>\n",
       "      <td>0.48</td>\n",
       "      <td>(Steering wheel, Dashboard)</td>\n",
       "    </tr>\n",
       "  </tbody>\n",
       "</table>\n",
       "</div>"
      ],
      "text/plain": [
       "   support                     itemsets\n",
       "0     0.48         (Centre compartment)\n",
       "1     0.84                  (Dashboard)\n",
       "2     0.60             (Steering wheel)\n",
       "3     0.48  (Steering wheel, Dashboard)"
      ]
     },
     "execution_count": 10,
     "metadata": {},
     "output_type": "execute_result"
    }
   ],
   "source": [
    "frequent_itemsets = apriori(interior_df, min_support=0.45, use_colnames=True)\n",
    "frequent_itemsets"
   ]
  },
  {
   "cell_type": "markdown",
   "id": "c976db5f",
   "metadata": {},
   "source": [
    "### Generate association rules with minimum confidence of 75%"
   ]
  },
  {
   "cell_type": "code",
   "execution_count": 11,
   "id": "775ef140",
   "metadata": {},
   "outputs": [
    {
     "data": {
      "text/html": [
       "<div>\n",
       "<style scoped>\n",
       "    .dataframe tbody tr th:only-of-type {\n",
       "        vertical-align: middle;\n",
       "    }\n",
       "\n",
       "    .dataframe tbody tr th {\n",
       "        vertical-align: top;\n",
       "    }\n",
       "\n",
       "    .dataframe thead th {\n",
       "        text-align: right;\n",
       "    }\n",
       "</style>\n",
       "<table border=\"1\" class=\"dataframe\">\n",
       "  <thead>\n",
       "    <tr style=\"text-align: right;\">\n",
       "      <th></th>\n",
       "      <th>antecedents</th>\n",
       "      <th>consequents</th>\n",
       "      <th>antecedent support</th>\n",
       "      <th>consequent support</th>\n",
       "      <th>support</th>\n",
       "      <th>confidence</th>\n",
       "      <th>lift</th>\n",
       "      <th>leverage</th>\n",
       "      <th>conviction</th>\n",
       "    </tr>\n",
       "  </thead>\n",
       "  <tbody>\n",
       "    <tr>\n",
       "      <th>0</th>\n",
       "      <td>(Steering wheel)</td>\n",
       "      <td>(Dashboard)</td>\n",
       "      <td>0.6</td>\n",
       "      <td>0.84</td>\n",
       "      <td>0.48</td>\n",
       "      <td>0.8</td>\n",
       "      <td>0.952381</td>\n",
       "      <td>-0.024</td>\n",
       "      <td>0.8</td>\n",
       "    </tr>\n",
       "  </tbody>\n",
       "</table>\n",
       "</div>"
      ],
      "text/plain": [
       "        antecedents  consequents  antecedent support  consequent support  \\\n",
       "0  (Steering wheel)  (Dashboard)                 0.6                0.84   \n",
       "\n",
       "   support  confidence      lift  leverage  conviction  \n",
       "0     0.48         0.8  0.952381    -0.024         0.8  "
      ]
     },
     "execution_count": 11,
     "metadata": {},
     "output_type": "execute_result"
    }
   ],
   "source": [
    "interior_association_rules = association_rules(frequent_itemsets, metric=\"confidence\", min_threshold=0.75)\n",
    "interior_association_rules"
   ]
  },
  {
   "cell_type": "markdown",
   "id": "7b6053eb",
   "metadata": {},
   "source": [
    "# 4. Effect of Car Ownership on Components to Customize"
   ]
  },
  {
   "cell_type": "markdown",
   "id": "8a2cd47d",
   "metadata": {},
   "source": [
    "## For exterior components"
   ]
  },
  {
   "cell_type": "code",
   "execution_count": 12,
   "id": "29f95648",
   "metadata": {
    "scrolled": true
   },
   "outputs": [
    {
     "data": {
      "text/plain": [
       "<matplotlib.legend.Legend at 0x234602fe1c0>"
      ]
     },
     "execution_count": 12,
     "metadata": {},
     "output_type": "execute_result"
    },
    {
     "data": {
      "image/png": "[encoded data removed]",
      "text/plain": [
       "<Figure size 720x288 with 1 Axes>"
      ]
     },
     "metadata": {
      "needs_background": "light"
     },
     "output_type": "display_data"
    }
   ],
   "source": [
    "fig, ax = plt.subplots(1,1, figsize=(10,4))\n",
    "\n",
    "category_list = ['Own more than one car', 'Own a car', 'Do not own a car, but planning to purchase in future']\n",
    "labels = ['More than One Car', 'One Car', 'No Car']\n",
    "colors = ['g', 'orange', 'b']\n",
    "data_temp_1 = data['ExteriorComponents']\n",
    "data_temp_2 = data['ExteriorComponents'][data['Category']!=category_list[0]]\n",
    "data_temp_3 = data['ExteriorComponents'][data['Category']==category_list[2]]\n",
    "data_temp_list = [data_temp_1, data_temp_2, data_temp_3]\n",
    "\n",
    "dict0 = {}\n",
    "dict1 = {}\n",
    "dict2 = {}\n",
    "dict_list = [dict0, dict1, dict2]\n",
    "for dictx in dict_list:\n",
    "    dictx['Wheels'] = 0\n",
    "    dictx['Grilles'] = 0\n",
    "    dictx['Side mirrors'] = 0\n",
    "    dictx['Bumpers'] = 0\n",
    "    dictx['Headlights'] = 0\n",
    "    dictx['add body kit and change the exhaust and tune the engine'] = 0\n",
    "\n",
    "for i in range(len(category_list)):\n",
    "    for exteriors in data_temp_list[i]:\n",
    "        if exteriors is not np.nan:\n",
    "            for exterior in exteriors.split(';'):\n",
    "                dict_list[i][exterior] += 1\n",
    "    dict_list[i]['Other'] = dict_list[i]['add body kit and change the exhaust and tune the engine']\n",
    "    del dict_list[i]['add body kit and change the exhaust and tune the engine']\n",
    "    exteriors = list(dict_list[i].keys())\n",
    "    frequencies = list(dict_list[i].values())\n",
    "    ax.barh(exteriors, frequencies, label=labels[i], color=colors[i])\n",
    "    \n",
    "ax.set_xlabel('Frequency')\n",
    "fig.suptitle('Effect of Car Ownership on Exterior Components to Customize')\n",
    "ax.legend()"
   ]
  },
  {
   "cell_type": "markdown",
   "id": "a0ae238f",
   "metadata": {},
   "source": [
    "## For interior components"
   ]
  },
  {
   "cell_type": "code",
   "execution_count": 13,
   "id": "c37d773e",
   "metadata": {},
   "outputs": [
    {
     "data": {
      "text/plain": [
       "<matplotlib.legend.Legend at 0x23460ac8430>"
      ]
     },
     "execution_count": 13,
     "metadata": {},
     "output_type": "execute_result"
    },
    {
     "data": {
      "image/png": "[encoded data removed]",
      "text/plain": [
       "<Figure size 720x360 with 1 Axes>"
      ]
     },
     "metadata": {
      "needs_background": "light"
     },
     "output_type": "display_data"
    }
   ],
   "source": [
    "fig, ax = plt.subplots(1,1, figsize=(10,5))\n",
    "\n",
    "category_list = ['Own more than one car', 'Own a car', 'Do not own a car, but planning to purchase in future']\n",
    "labels = ['More than One Car', 'One Car', 'No Car']\n",
    "colors = ['g', 'orange', 'b']\n",
    "data_temp_1 = data['InteriorComponents']\n",
    "data_temp_2 = data['InteriorComponents'][data['Category']!=category_list[0]]\n",
    "data_temp_3 = data['InteriorComponents'][data['Category']==category_list[2]]\n",
    "data_temp_list = [data_temp_1, data_temp_2, data_temp_3]\n",
    "\n",
    "dict0 = {}\n",
    "dict1 = {}\n",
    "dict2 = {}\n",
    "dict_list = [dict0, dict1, dict2]\n",
    "for dictx in dict_list:\n",
    "    dictx['Steering wheel'] = 0\n",
    "    dictx['Dashboard'] = 0\n",
    "    dictx['Centre compartment'] = 0\n",
    "    dictx['Sun blocker for front passengers'] = 0\n",
    "    dictx['Door handles'] = 0\n",
    "    dictx['Music Player and sound systems'] = 0\n",
    "    dictx['air vent'] = 0\n",
    "\n",
    "for i in range(len(category_list)):\n",
    "    for interiors in data_temp_list[i]:\n",
    "        if interiors is not np.nan:\n",
    "            for interior in interiors.split(';'):\n",
    "                dict_list[i][interior] += 1\n",
    "    dict_list[i]['Sun Blocker'] = dict_list[i]['Sun blocker for front passengers']\n",
    "    dict_list[i]['Sound systems'] = dict_list[i]['Music Player and sound systems']\n",
    "    del dict_list[i]['Sun blocker for front passengers']\n",
    "    del dict_list[i]['Music Player and sound systems']\n",
    "    interiors = list(dict_list[i].keys())\n",
    "    frequencies = list(dict_list[i].values())\n",
    "    ax.barh(interiors, frequencies, label=labels[i], color=colors[i])\n",
    "    \n",
    "ax.set_xlabel('Frequency')\n",
    "fig.suptitle('Effect of Car Ownership on Interior Components to Customize')\n",
    "ax.legend()"
   ]
  },
  {
   "cell_type": "markdown",
   "id": "b7f154a6",
   "metadata": {},
   "source": [
    "# 5. Generate Association Rules from Exterior Components Based on Car Ownership"
   ]
  },
  {
   "cell_type": "markdown",
   "id": "05e67965",
   "metadata": {},
   "source": [
    "## For \"own no car\" category"
   ]
  },
  {
   "cell_type": "code",
   "execution_count": 14,
   "id": "482b5464",
   "metadata": {},
   "outputs": [],
   "source": [
    "data_temp = data['ExteriorComponents'][data['Category']==category_list[2]]\n",
    "index_list = list(data_temp.index)\n",
    "exterior_data = [[]] * len(data_temp)\n",
    "\n",
    "for i in range(len(data_temp)):\n",
    "    if data_temp[index_list[i]] is not np.nan:\n",
    "        exterior_data[i] = data_temp[index_list[i]].split(';')\n",
    "    else:\n",
    "        exterior_data[i] = []\n",
    "\n",
    "te = TransactionEncoder()\n",
    "te_ary = te.fit(exterior_data).transform(exterior_data)\n",
    "exterior_df = pd.DataFrame(te_ary, columns=te.columns_)"
   ]
  },
  {
   "cell_type": "code",
   "execution_count": 15,
   "id": "e3b6cb81",
   "metadata": {},
   "outputs": [
    {
     "data": {
      "text/html": [
       "<div>\n",
       "<style scoped>\n",
       "    .dataframe tbody tr th:only-of-type {\n",
       "        vertical-align: middle;\n",
       "    }\n",
       "\n",
       "    .dataframe tbody tr th {\n",
       "        vertical-align: top;\n",
       "    }\n",
       "\n",
       "    .dataframe thead th {\n",
       "        text-align: right;\n",
       "    }\n",
       "</style>\n",
       "<table border=\"1\" class=\"dataframe\">\n",
       "  <thead>\n",
       "    <tr style=\"text-align: right;\">\n",
       "      <th></th>\n",
       "      <th>support</th>\n",
       "      <th>itemsets</th>\n",
       "    </tr>\n",
       "  </thead>\n",
       "  <tbody>\n",
       "    <tr>\n",
       "      <th>0</th>\n",
       "      <td>0.441176</td>\n",
       "      <td>(Bumpers)</td>\n",
       "    </tr>\n",
       "    <tr>\n",
       "      <th>1</th>\n",
       "      <td>0.294118</td>\n",
       "      <td>(Grilles)</td>\n",
       "    </tr>\n",
       "    <tr>\n",
       "      <th>2</th>\n",
       "      <td>0.441176</td>\n",
       "      <td>(Headlights)</td>\n",
       "    </tr>\n",
       "    <tr>\n",
       "      <th>3</th>\n",
       "      <td>0.323529</td>\n",
       "      <td>(Side mirrors)</td>\n",
       "    </tr>\n",
       "    <tr>\n",
       "      <th>4</th>\n",
       "      <td>0.735294</td>\n",
       "      <td>(Wheels)</td>\n",
       "    </tr>\n",
       "    <tr>\n",
       "      <th>5</th>\n",
       "      <td>0.352941</td>\n",
       "      <td>(Headlights, Wheels)</td>\n",
       "    </tr>\n",
       "  </tbody>\n",
       "</table>\n",
       "</div>"
      ],
      "text/plain": [
       "    support              itemsets\n",
       "0  0.441176             (Bumpers)\n",
       "1  0.294118             (Grilles)\n",
       "2  0.441176          (Headlights)\n",
       "3  0.323529        (Side mirrors)\n",
       "4  0.735294              (Wheels)\n",
       "5  0.352941  (Headlights, Wheels)"
      ]
     },
     "execution_count": 15,
     "metadata": {},
     "output_type": "execute_result"
    }
   ],
   "source": [
    "frequent_itemsets = apriori(exterior_df, min_support=0.25, use_colnames=True)\n",
    "frequent_itemsets"
   ]
  },
  {
   "cell_type": "code",
   "execution_count": 16,
   "id": "69c8a08b",
   "metadata": {},
   "outputs": [
    {
     "data": {
      "text/html": [
       "<div>\n",
       "<style scoped>\n",
       "    .dataframe tbody tr th:only-of-type {\n",
       "        vertical-align: middle;\n",
       "    }\n",
       "\n",
       "    .dataframe tbody tr th {\n",
       "        vertical-align: top;\n",
       "    }\n",
       "\n",
       "    .dataframe thead th {\n",
       "        text-align: right;\n",
       "    }\n",
       "</style>\n",
       "<table border=\"1\" class=\"dataframe\">\n",
       "  <thead>\n",
       "    <tr style=\"text-align: right;\">\n",
       "      <th></th>\n",
       "      <th>antecedents</th>\n",
       "      <th>consequents</th>\n",
       "      <th>antecedent support</th>\n",
       "      <th>consequent support</th>\n",
       "      <th>support</th>\n",
       "      <th>confidence</th>\n",
       "      <th>lift</th>\n",
       "      <th>leverage</th>\n",
       "      <th>conviction</th>\n",
       "    </tr>\n",
       "  </thead>\n",
       "  <tbody>\n",
       "    <tr>\n",
       "      <th>0</th>\n",
       "      <td>(Headlights)</td>\n",
       "      <td>(Wheels)</td>\n",
       "      <td>0.441176</td>\n",
       "      <td>0.735294</td>\n",
       "      <td>0.352941</td>\n",
       "      <td>0.8</td>\n",
       "      <td>1.088</td>\n",
       "      <td>0.028547</td>\n",
       "      <td>1.323529</td>\n",
       "    </tr>\n",
       "  </tbody>\n",
       "</table>\n",
       "</div>"
      ],
      "text/plain": [
       "    antecedents consequents  antecedent support  consequent support   support  \\\n",
       "0  (Headlights)    (Wheels)            0.441176            0.735294  0.352941   \n",
       "\n",
       "   confidence   lift  leverage  conviction  \n",
       "0         0.8  1.088  0.028547    1.323529  "
      ]
     },
     "execution_count": 16,
     "metadata": {},
     "output_type": "execute_result"
    }
   ],
   "source": [
    "exterior_association_rules = association_rules(frequent_itemsets, metric=\"confidence\", min_threshold=0.75)\n",
    "exterior_association_rules"
   ]
  },
  {
   "cell_type": "markdown",
   "id": "edaf0b65",
   "metadata": {},
   "source": [
    "## For \"own one or more cars\" category"
   ]
  },
  {
   "cell_type": "code",
   "execution_count": 17,
   "id": "05aa574e",
   "metadata": {},
   "outputs": [],
   "source": [
    "data_temp = data['ExteriorComponents'][data['Category']!=category_list[2]]\n",
    "index_list = list(data_temp.index)\n",
    "exterior_data = [[]] * len(data_temp)\n",
    "\n",
    "for i in range(len(data_temp)):\n",
    "    if data_temp[index_list[i]] is not np.nan:\n",
    "        exterior_data[i] = data_temp[index_list[i]].split(';')\n",
    "    else:\n",
    "        exterior_data[i] = []\n",
    "\n",
    "te = TransactionEncoder()\n",
    "te_ary = te.fit(exterior_data).transform(exterior_data)\n",
    "exterior_df = pd.DataFrame(te_ary, columns=te.columns_)"
   ]
  },
  {
   "cell_type": "code",
   "execution_count": 18,
   "id": "1bf0eb61",
   "metadata": {},
   "outputs": [
    {
     "data": {
      "text/html": [
       "<div>\n",
       "<style scoped>\n",
       "    .dataframe tbody tr th:only-of-type {\n",
       "        vertical-align: middle;\n",
       "    }\n",
       "\n",
       "    .dataframe tbody tr th {\n",
       "        vertical-align: top;\n",
       "    }\n",
       "\n",
       "    .dataframe thead th {\n",
       "        text-align: right;\n",
       "    }\n",
       "</style>\n",
       "<table border=\"1\" class=\"dataframe\">\n",
       "  <thead>\n",
       "    <tr style=\"text-align: right;\">\n",
       "      <th></th>\n",
       "      <th>support</th>\n",
       "      <th>itemsets</th>\n",
       "    </tr>\n",
       "  </thead>\n",
       "  <tbody>\n",
       "    <tr>\n",
       "      <th>0</th>\n",
       "      <td>0.3750</td>\n",
       "      <td>(Bumpers)</td>\n",
       "    </tr>\n",
       "    <tr>\n",
       "      <th>1</th>\n",
       "      <td>0.5000</td>\n",
       "      <td>(Grilles)</td>\n",
       "    </tr>\n",
       "    <tr>\n",
       "      <th>2</th>\n",
       "      <td>0.4375</td>\n",
       "      <td>(Headlights)</td>\n",
       "    </tr>\n",
       "    <tr>\n",
       "      <th>3</th>\n",
       "      <td>0.3125</td>\n",
       "      <td>(Side mirrors)</td>\n",
       "    </tr>\n",
       "    <tr>\n",
       "      <th>4</th>\n",
       "      <td>0.5000</td>\n",
       "      <td>(Wheels)</td>\n",
       "    </tr>\n",
       "    <tr>\n",
       "      <th>5</th>\n",
       "      <td>0.2500</td>\n",
       "      <td>(Bumpers, Wheels)</td>\n",
       "    </tr>\n",
       "    <tr>\n",
       "      <th>6</th>\n",
       "      <td>0.2500</td>\n",
       "      <td>(Grilles, Headlights)</td>\n",
       "    </tr>\n",
       "    <tr>\n",
       "      <th>7</th>\n",
       "      <td>0.2500</td>\n",
       "      <td>(Grilles, Wheels)</td>\n",
       "    </tr>\n",
       "    <tr>\n",
       "      <th>8</th>\n",
       "      <td>0.2500</td>\n",
       "      <td>(Side mirrors, Headlights)</td>\n",
       "    </tr>\n",
       "    <tr>\n",
       "      <th>9</th>\n",
       "      <td>0.3125</td>\n",
       "      <td>(Headlights, Wheels)</td>\n",
       "    </tr>\n",
       "  </tbody>\n",
       "</table>\n",
       "</div>"
      ],
      "text/plain": [
       "   support                    itemsets\n",
       "0   0.3750                   (Bumpers)\n",
       "1   0.5000                   (Grilles)\n",
       "2   0.4375                (Headlights)\n",
       "3   0.3125              (Side mirrors)\n",
       "4   0.5000                    (Wheels)\n",
       "5   0.2500           (Bumpers, Wheels)\n",
       "6   0.2500       (Grilles, Headlights)\n",
       "7   0.2500           (Grilles, Wheels)\n",
       "8   0.2500  (Side mirrors, Headlights)\n",
       "9   0.3125        (Headlights, Wheels)"
      ]
     },
     "execution_count": 18,
     "metadata": {},
     "output_type": "execute_result"
    }
   ],
   "source": [
    "frequent_itemsets = apriori(exterior_df, min_support=0.25, use_colnames=True)\n",
    "frequent_itemsets"
   ]
  },
  {
   "cell_type": "code",
   "execution_count": 19,
   "id": "0b670b9d",
   "metadata": {},
   "outputs": [
    {
     "data": {
      "text/html": [
       "<div>\n",
       "<style scoped>\n",
       "    .dataframe tbody tr th:only-of-type {\n",
       "        vertical-align: middle;\n",
       "    }\n",
       "\n",
       "    .dataframe tbody tr th {\n",
       "        vertical-align: top;\n",
       "    }\n",
       "\n",
       "    .dataframe thead th {\n",
       "        text-align: right;\n",
       "    }\n",
       "</style>\n",
       "<table border=\"1\" class=\"dataframe\">\n",
       "  <thead>\n",
       "    <tr style=\"text-align: right;\">\n",
       "      <th></th>\n",
       "      <th>antecedents</th>\n",
       "      <th>consequents</th>\n",
       "      <th>antecedent support</th>\n",
       "      <th>consequent support</th>\n",
       "      <th>support</th>\n",
       "      <th>confidence</th>\n",
       "      <th>lift</th>\n",
       "      <th>leverage</th>\n",
       "      <th>conviction</th>\n",
       "    </tr>\n",
       "  </thead>\n",
       "  <tbody>\n",
       "    <tr>\n",
       "      <th>0</th>\n",
       "      <td>(Side mirrors)</td>\n",
       "      <td>(Headlights)</td>\n",
       "      <td>0.3125</td>\n",
       "      <td>0.4375</td>\n",
       "      <td>0.25</td>\n",
       "      <td>0.8</td>\n",
       "      <td>1.828571</td>\n",
       "      <td>0.113281</td>\n",
       "      <td>2.8125</td>\n",
       "    </tr>\n",
       "  </tbody>\n",
       "</table>\n",
       "</div>"
      ],
      "text/plain": [
       "      antecedents   consequents  antecedent support  consequent support  \\\n",
       "0  (Side mirrors)  (Headlights)              0.3125              0.4375   \n",
       "\n",
       "   support  confidence      lift  leverage  conviction  \n",
       "0     0.25         0.8  1.828571  0.113281      2.8125  "
      ]
     },
     "execution_count": 19,
     "metadata": {},
     "output_type": "execute_result"
    }
   ],
   "source": [
    "exterior_association_rules = association_rules(frequent_itemsets, metric=\"confidence\", min_threshold=0.75)\n",
    "exterior_association_rules"
   ]
  },
  {
   "cell_type": "markdown",
   "id": "e41301b6",
   "metadata": {},
   "source": [
    "# 6. Generate Association Rules from Interior Components Based on Car Ownership"
   ]
  },
  {
   "cell_type": "markdown",
   "id": "4e59c7ff",
   "metadata": {},
   "source": [
    "## For \"own no car\" category"
   ]
  },
  {
   "cell_type": "code",
   "execution_count": 20,
   "id": "1521a3e5",
   "metadata": {},
   "outputs": [],
   "source": [
    "data_temp = data['InteriorComponents'][data['Category']==category_list[2]]\n",
    "index_list = list(data_temp.index)\n",
    "interior_data = [[]] * len(data_temp)\n",
    "\n",
    "for i in range(len(data_temp)):\n",
    "    if data_temp[index_list[i]] is not np.nan:\n",
    "        interior_data[i] = data_temp[index_list[i]].split(';')\n",
    "    else:\n",
    "        interior_data[i] = []\n",
    "\n",
    "te = TransactionEncoder()\n",
    "te_ary = te.fit(interior_data).transform(interior_data)\n",
    "interior_df = pd.DataFrame(te_ary, columns=te.columns_)"
   ]
  },
  {
   "cell_type": "code",
   "execution_count": 21,
   "id": "63e10671",
   "metadata": {},
   "outputs": [
    {
     "data": {
      "text/html": [
       "<div>\n",
       "<style scoped>\n",
       "    .dataframe tbody tr th:only-of-type {\n",
       "        vertical-align: middle;\n",
       "    }\n",
       "\n",
       "    .dataframe tbody tr th {\n",
       "        vertical-align: top;\n",
       "    }\n",
       "\n",
       "    .dataframe thead th {\n",
       "        text-align: right;\n",
       "    }\n",
       "</style>\n",
       "<table border=\"1\" class=\"dataframe\">\n",
       "  <thead>\n",
       "    <tr style=\"text-align: right;\">\n",
       "      <th></th>\n",
       "      <th>support</th>\n",
       "      <th>itemsets</th>\n",
       "    </tr>\n",
       "  </thead>\n",
       "  <tbody>\n",
       "    <tr>\n",
       "      <th>0</th>\n",
       "      <td>0.470588</td>\n",
       "      <td>(Centre compartment)</td>\n",
       "    </tr>\n",
       "    <tr>\n",
       "      <th>1</th>\n",
       "      <td>0.852941</td>\n",
       "      <td>(Dashboard)</td>\n",
       "    </tr>\n",
       "    <tr>\n",
       "      <th>2</th>\n",
       "      <td>0.588235</td>\n",
       "      <td>(Steering wheel)</td>\n",
       "    </tr>\n",
       "    <tr>\n",
       "      <th>3</th>\n",
       "      <td>0.411765</td>\n",
       "      <td>(Centre compartment, Dashboard)</td>\n",
       "    </tr>\n",
       "    <tr>\n",
       "      <th>4</th>\n",
       "      <td>0.441176</td>\n",
       "      <td>(Steering wheel, Dashboard)</td>\n",
       "    </tr>\n",
       "  </tbody>\n",
       "</table>\n",
       "</div>"
      ],
      "text/plain": [
       "    support                         itemsets\n",
       "0  0.470588             (Centre compartment)\n",
       "1  0.852941                      (Dashboard)\n",
       "2  0.588235                 (Steering wheel)\n",
       "3  0.411765  (Centre compartment, Dashboard)\n",
       "4  0.441176      (Steering wheel, Dashboard)"
      ]
     },
     "execution_count": 21,
     "metadata": {},
     "output_type": "execute_result"
    }
   ],
   "source": [
    "frequent_itemsets = apriori(interior_df, min_support=0.4, use_colnames=True)\n",
    "frequent_itemsets"
   ]
  },
  {
   "cell_type": "code",
   "execution_count": 22,
   "id": "d09418be",
   "metadata": {},
   "outputs": [
    {
     "data": {
      "text/html": [
       "<div>\n",
       "<style scoped>\n",
       "    .dataframe tbody tr th:only-of-type {\n",
       "        vertical-align: middle;\n",
       "    }\n",
       "\n",
       "    .dataframe tbody tr th {\n",
       "        vertical-align: top;\n",
       "    }\n",
       "\n",
       "    .dataframe thead th {\n",
       "        text-align: right;\n",
       "    }\n",
       "</style>\n",
       "<table border=\"1\" class=\"dataframe\">\n",
       "  <thead>\n",
       "    <tr style=\"text-align: right;\">\n",
       "      <th></th>\n",
       "      <th>antecedents</th>\n",
       "      <th>consequents</th>\n",
       "      <th>antecedent support</th>\n",
       "      <th>consequent support</th>\n",
       "      <th>support</th>\n",
       "      <th>confidence</th>\n",
       "      <th>lift</th>\n",
       "      <th>leverage</th>\n",
       "      <th>conviction</th>\n",
       "    </tr>\n",
       "  </thead>\n",
       "  <tbody>\n",
       "    <tr>\n",
       "      <th>0</th>\n",
       "      <td>(Centre compartment)</td>\n",
       "      <td>(Dashboard)</td>\n",
       "      <td>0.470588</td>\n",
       "      <td>0.852941</td>\n",
       "      <td>0.411765</td>\n",
       "      <td>0.875</td>\n",
       "      <td>1.025862</td>\n",
       "      <td>0.010381</td>\n",
       "      <td>1.176471</td>\n",
       "    </tr>\n",
       "    <tr>\n",
       "      <th>1</th>\n",
       "      <td>(Steering wheel)</td>\n",
       "      <td>(Dashboard)</td>\n",
       "      <td>0.588235</td>\n",
       "      <td>0.852941</td>\n",
       "      <td>0.441176</td>\n",
       "      <td>0.750</td>\n",
       "      <td>0.879310</td>\n",
       "      <td>-0.060554</td>\n",
       "      <td>0.588235</td>\n",
       "    </tr>\n",
       "  </tbody>\n",
       "</table>\n",
       "</div>"
      ],
      "text/plain": [
       "            antecedents  consequents  antecedent support  consequent support  \\\n",
       "0  (Centre compartment)  (Dashboard)            0.470588            0.852941   \n",
       "1      (Steering wheel)  (Dashboard)            0.588235            0.852941   \n",
       "\n",
       "    support  confidence      lift  leverage  conviction  \n",
       "0  0.411765       0.875  1.025862  0.010381    1.176471  \n",
       "1  0.441176       0.750  0.879310 -0.060554    0.588235  "
      ]
     },
     "execution_count": 22,
     "metadata": {},
     "output_type": "execute_result"
    }
   ],
   "source": [
    "interior_association_rules = association_rules(frequent_itemsets, metric=\"confidence\", min_threshold=0.75)\n",
    "interior_association_rules"
   ]
  },
  {
   "cell_type": "markdown",
   "id": "a331abef",
   "metadata": {},
   "source": [
    "## For \"own one or more cars\" category"
   ]
  },
  {
   "cell_type": "code",
   "execution_count": 23,
   "id": "0a8b4125",
   "metadata": {},
   "outputs": [],
   "source": [
    "data_temp = data['InteriorComponents'][data['Category']!=category_list[2]]\n",
    "index_list = list(data_temp.index)\n",
    "interior_data = [[]] * len(data_temp)\n",
    "\n",
    "for i in range(len(data_temp)):\n",
    "    if data_temp[index_list[i]] is not np.nan:\n",
    "        interior_data[i] = data_temp[index_list[i]].split(';')\n",
    "    else:\n",
    "        interior_data[i] = []\n",
    "\n",
    "te = TransactionEncoder()\n",
    "te_ary = te.fit(interior_data).transform(interior_data)\n",
    "interior_df = pd.DataFrame(te_ary, columns=te.columns_)"
   ]
  },
  {
   "cell_type": "code",
   "execution_count": 24,
   "id": "e7a3c816",
   "metadata": {},
   "outputs": [
    {
     "data": {
      "text/html": [
       "<div>\n",
       "<style scoped>\n",
       "    .dataframe tbody tr th:only-of-type {\n",
       "        vertical-align: middle;\n",
       "    }\n",
       "\n",
       "    .dataframe tbody tr th {\n",
       "        vertical-align: top;\n",
       "    }\n",
       "\n",
       "    .dataframe thead th {\n",
       "        text-align: right;\n",
       "    }\n",
       "</style>\n",
       "<table border=\"1\" class=\"dataframe\">\n",
       "  <thead>\n",
       "    <tr style=\"text-align: right;\">\n",
       "      <th></th>\n",
       "      <th>support</th>\n",
       "      <th>itemsets</th>\n",
       "    </tr>\n",
       "  </thead>\n",
       "  <tbody>\n",
       "    <tr>\n",
       "      <th>0</th>\n",
       "      <td>0.5000</td>\n",
       "      <td>(Centre compartment)</td>\n",
       "    </tr>\n",
       "    <tr>\n",
       "      <th>1</th>\n",
       "      <td>0.8125</td>\n",
       "      <td>(Dashboard)</td>\n",
       "    </tr>\n",
       "    <tr>\n",
       "      <th>2</th>\n",
       "      <td>0.6250</td>\n",
       "      <td>(Steering wheel)</td>\n",
       "    </tr>\n",
       "    <tr>\n",
       "      <th>3</th>\n",
       "      <td>0.5625</td>\n",
       "      <td>(Steering wheel, Dashboard)</td>\n",
       "    </tr>\n",
       "  </tbody>\n",
       "</table>\n",
       "</div>"
      ],
      "text/plain": [
       "   support                     itemsets\n",
       "0   0.5000         (Centre compartment)\n",
       "1   0.8125                  (Dashboard)\n",
       "2   0.6250             (Steering wheel)\n",
       "3   0.5625  (Steering wheel, Dashboard)"
      ]
     },
     "execution_count": 24,
     "metadata": {},
     "output_type": "execute_result"
    }
   ],
   "source": [
    "frequent_itemsets = apriori(interior_df, min_support=0.5, use_colnames=True)\n",
    "frequent_itemsets"
   ]
  },
  {
   "cell_type": "code",
   "execution_count": 25,
   "id": "37413c82",
   "metadata": {},
   "outputs": [
    {
     "data": {
      "text/html": [
       "<div>\n",
       "<style scoped>\n",
       "    .dataframe tbody tr th:only-of-type {\n",
       "        vertical-align: middle;\n",
       "    }\n",
       "\n",
       "    .dataframe tbody tr th {\n",
       "        vertical-align: top;\n",
       "    }\n",
       "\n",
       "    .dataframe thead th {\n",
       "        text-align: right;\n",
       "    }\n",
       "</style>\n",
       "<table border=\"1\" class=\"dataframe\">\n",
       "  <thead>\n",
       "    <tr style=\"text-align: right;\">\n",
       "      <th></th>\n",
       "      <th>antecedents</th>\n",
       "      <th>consequents</th>\n",
       "      <th>antecedent support</th>\n",
       "      <th>consequent support</th>\n",
       "      <th>support</th>\n",
       "      <th>confidence</th>\n",
       "      <th>lift</th>\n",
       "      <th>leverage</th>\n",
       "      <th>conviction</th>\n",
       "    </tr>\n",
       "  </thead>\n",
       "  <tbody>\n",
       "    <tr>\n",
       "      <th>0</th>\n",
       "      <td>(Steering wheel)</td>\n",
       "      <td>(Dashboard)</td>\n",
       "      <td>0.625</td>\n",
       "      <td>0.8125</td>\n",
       "      <td>0.5625</td>\n",
       "      <td>0.9</td>\n",
       "      <td>1.107692</td>\n",
       "      <td>0.054688</td>\n",
       "      <td>1.875</td>\n",
       "    </tr>\n",
       "  </tbody>\n",
       "</table>\n",
       "</div>"
      ],
      "text/plain": [
       "        antecedents  consequents  antecedent support  consequent support  \\\n",
       "0  (Steering wheel)  (Dashboard)               0.625              0.8125   \n",
       "\n",
       "   support  confidence      lift  leverage  conviction  \n",
       "0   0.5625         0.9  1.107692  0.054688       1.875  "
      ]
     },
     "execution_count": 25,
     "metadata": {},
     "output_type": "execute_result"
    }
   ],
   "source": [
    "interior_association_rules = association_rules(frequent_itemsets, metric=\"confidence\", min_threshold=0.75)\n",
    "interior_association_rules"
   ]
  },
  {
   "cell_type": "code",
   "execution_count": null,
   "id": "517ae7c0",
   "metadata": {},
   "outputs": [],
   "source": []
  }
 ],
 "metadata": {
  "kernelspec": {
   "display_name": "Python 3 (ipykernel)",
   "language": "python",
   "name": "python3"
  },
  "language_info": {
   "codemirror_mode": {
    "name": "ipython",
    "version": 3
   },
   "file_extension": ".py",
   "mimetype": "text/x-python",
   "name": "python",
   "nbconvert_exporter": "python",
   "pygments_lexer": "ipython3",
   "version": "3.9.12"
  }
 },
 "nbformat": 4,
 "nbformat_minor": 5
}
