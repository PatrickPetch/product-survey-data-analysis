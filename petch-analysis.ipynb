{
 "cells": [
  {
   "cell_type": "code",
   "execution_count": 1,
   "metadata": {},
   "outputs": [],
   "source": [
    "import numpy as np\n",
    "import pandas as pd\n",
    "\n",
    "from sklearn.datasets import make_blobs\n",
    "from sklearn.preprocessing import StandardScaler\n",
    "\n",
    "from sklearn.cluster import KMeans\n",
    "\n",
    "import matplotlib.pyplot as plt\n",
    "\n",
    "from mlxtend.frequent_patterns import apriori, association_rules"
   ]
  },
  {
   "cell_type": "code",
   "execution_count": 2,
   "metadata": {},
   "outputs": [
    {
     "data": {
      "text/html": [
       "<div>\n",
       "<style scoped>\n",
       "    .dataframe tbody tr th:only-of-type {\n",
       "        vertical-align: middle;\n",
       "    }\n",
       "\n",
       "    .dataframe tbody tr th {\n",
       "        vertical-align: top;\n",
       "    }\n",
       "\n",
       "    .dataframe thead th {\n",
       "        text-align: right;\n",
       "    }\n",
       "</style>\n",
       "<table border=\"1\" class=\"dataframe\">\n",
       "  <thead>\n",
       "    <tr style=\"text-align: right;\">\n",
       "      <th></th>\n",
       "      <th>No.</th>\n",
       "      <th>Which age group do you belong to?</th>\n",
       "      <th>What is your gender?</th>\n",
       "      <th>Which category do you currently belong to?</th>\n",
       "      <th>Which of the following best describes you?</th>\n",
       "      <th>Which of these factors are important to you when deciding which car to purchase?</th>\n",
       "      <th>How likely are you to opt for customised vehicle if there were no extra charges?</th>\n",
       "      <th>Which of the following exterior components would you choose to customise (texture, layout, size, etc)?</th>\n",
       "      <th>Which of the following interior components would you choose to customise (texture, layout, size, etc)?</th>\n",
       "      <th>How much are you willing to spend on car customisation if surcharges are applicable?</th>\n",
       "      <th>Are you interested in designing your own components to personalise your car?</th>\n",
       "      <th>How much are you willing to pay for the personalised design?</th>\n",
       "      <th>Unnamed: 12</th>\n",
       "    </tr>\n",
       "  </thead>\n",
       "  <tbody>\n",
       "    <tr>\n",
       "      <th>0</th>\n",
       "      <td>1</td>\n",
       "      <td>20-30</td>\n",
       "      <td>Male</td>\n",
       "      <td>Do not own a car, but planning to purchase in ...</td>\n",
       "      <td>Single</td>\n",
       "      <td>Price;Technological features;Functionality</td>\n",
       "      <td>Very likely</td>\n",
       "      <td>Wheels;Grilles</td>\n",
       "      <td>Steering wheel;Dashboard</td>\n",
       "      <td>500-1000</td>\n",
       "      <td>No</td>\n",
       "      <td>500-1000</td>\n",
       "      <td>NaN</td>\n",
       "    </tr>\n",
       "  </tbody>\n",
       "</table>\n",
       "</div>"
      ],
      "text/plain": [
       "   No. Which age group do you belong to? What is your gender?  \\\n",
       "0    1                             20-30                 Male   \n",
       "\n",
       "          Which category do you currently belong to?  \\\n",
       "0  Do not own a car, but planning to purchase in ...   \n",
       "\n",
       "  Which of the following best describes you?  \\\n",
       "0                                     Single   \n",
       "\n",
       "  Which of these factors are important to you when deciding which car to purchase?  \\\n",
       "0         Price;Technological features;Functionality                                 \n",
       "\n",
       "  How likely are you to opt for customised vehicle if there were no extra charges?   \\\n",
       "0                                        Very likely                                  \n",
       "\n",
       "  Which of the following exterior components would you choose to customise (texture, layout, size, etc)?   \\\n",
       "0                                     Wheels;Grilles                                                        \n",
       "\n",
       "  Which of the following interior components would you choose to customise (texture, layout, size, etc)?   \\\n",
       "0                           Steering wheel;Dashboard                                                        \n",
       "\n",
       "  How much are you willing to spend on car customisation if surcharges are applicable?  \\\n",
       "0                                           500-1000                                     \n",
       "\n",
       "  Are you interested in designing your own components to personalise your car?   \\\n",
       "0                                                 No                              \n",
       "\n",
       "  How much are you willing to pay for the personalised design?  Unnamed: 12  \n",
       "0                                           500-1000                    NaN  "
      ]
     },
     "execution_count": 2,
     "metadata": {},
     "output_type": "execute_result"
    }
   ],
   "source": [
    "df = pd.read_csv(\"./product_data.csv\")\n",
    "\n",
    "df.head(1)"
   ]
  },
  {
   "cell_type": "code",
   "execution_count": 3,
   "metadata": {},
   "outputs": [
    {
     "data": {
      "text/html": [
       "<div>\n",
       "<style scoped>\n",
       "    .dataframe tbody tr th:only-of-type {\n",
       "        vertical-align: middle;\n",
       "    }\n",
       "\n",
       "    .dataframe tbody tr th {\n",
       "        vertical-align: top;\n",
       "    }\n",
       "\n",
       "    .dataframe thead th {\n",
       "        text-align: right;\n",
       "    }\n",
       "</style>\n",
       "<table border=\"1\" class=\"dataframe\">\n",
       "  <thead>\n",
       "    <tr style=\"text-align: right;\">\n",
       "      <th></th>\n",
       "      <th>No.</th>\n",
       "      <th>Age</th>\n",
       "      <th>Gender</th>\n",
       "      <th>Category</th>\n",
       "      <th>MarriageStatus</th>\n",
       "      <th>FactorsPurchase</th>\n",
       "      <th>FreeCustomization</th>\n",
       "      <th>ExteriorComponents</th>\n",
       "      <th>InteriorComponents</th>\n",
       "      <th>WTSCustomization</th>\n",
       "      <th>WantOwnPersonalization</th>\n",
       "      <th>WTSPersonalization</th>\n",
       "      <th>PersonalizationJob</th>\n",
       "    </tr>\n",
       "  </thead>\n",
       "  <tbody>\n",
       "    <tr>\n",
       "      <th>0</th>\n",
       "      <td>1</td>\n",
       "      <td>20-30</td>\n",
       "      <td>Male</td>\n",
       "      <td>Do not own a car, but planning to purchase in ...</td>\n",
       "      <td>Single</td>\n",
       "      <td>Price;Technological features;Functionality</td>\n",
       "      <td>Very likely</td>\n",
       "      <td>Wheels;Grilles</td>\n",
       "      <td>Steering wheel;Dashboard</td>\n",
       "      <td>500-1000</td>\n",
       "      <td>No</td>\n",
       "      <td>500-1000</td>\n",
       "      <td>NaN</td>\n",
       "    </tr>\n",
       "  </tbody>\n",
       "</table>\n",
       "</div>"
      ],
      "text/plain": [
       "   No.    Age Gender                                           Category  \\\n",
       "0    1  20-30   Male  Do not own a car, but planning to purchase in ...   \n",
       "\n",
       "  MarriageStatus                             FactorsPurchase  \\\n",
       "0         Single  Price;Technological features;Functionality   \n",
       "\n",
       "  FreeCustomization ExteriorComponents        InteriorComponents  \\\n",
       "0       Very likely     Wheels;Grilles  Steering wheel;Dashboard   \n",
       "\n",
       "  WTSCustomization WantOwnPersonalization WTSPersonalization  \\\n",
       "0         500-1000                     No           500-1000   \n",
       "\n",
       "  PersonalizationJob  \n",
       "0                NaN  "
      ]
     },
     "execution_count": 3,
     "metadata": {},
     "output_type": "execute_result"
    }
   ],
   "source": [
    "df.columns = [\"No.\", \"Age\", \"Gender\", \"Category\", \"MarriageStatus\", \n",
    "                \"FactorsPurchase\", \"FreeCustomization\", \"ExteriorComponents\", \n",
    "                \"InteriorComponents\", \"WTSCustomization\", \"WantOwnPersonalization\", \n",
    "                \"WTSPersonalization\", \"PersonalizationJob\"]\n",
    "\n",
    "df.head(1)"
   ]
  },
  {
   "cell_type": "code",
   "execution_count": 4,
   "metadata": {},
   "outputs": [
    {
     "data": {
      "text/plain": [
       "array(['500-1000', 'under 500', '0', 'over 1000'], dtype=object)"
      ]
     },
     "execution_count": 4,
     "metadata": {},
     "output_type": "execute_result"
    }
   ],
   "source": [
    "df.WTSCustomization.unique()"
   ]
  },
  {
   "cell_type": "code",
   "execution_count": 5,
   "metadata": {},
   "outputs": [
    {
     "data": {
      "text/html": [
       "<div>\n",
       "<style scoped>\n",
       "    .dataframe tbody tr th:only-of-type {\n",
       "        vertical-align: middle;\n",
       "    }\n",
       "\n",
       "    .dataframe tbody tr th {\n",
       "        vertical-align: top;\n",
       "    }\n",
       "\n",
       "    .dataframe thead th {\n",
       "        text-align: right;\n",
       "    }\n",
       "</style>\n",
       "<table border=\"1\" class=\"dataframe\">\n",
       "  <thead>\n",
       "    <tr style=\"text-align: right;\">\n",
       "      <th></th>\n",
       "      <th>No.</th>\n",
       "      <th>Age</th>\n",
       "      <th>Gender</th>\n",
       "      <th>Category</th>\n",
       "      <th>MarriageStatus</th>\n",
       "      <th>FactorsPurchase</th>\n",
       "      <th>FreeCustomization</th>\n",
       "      <th>ExteriorComponents</th>\n",
       "      <th>InteriorComponents</th>\n",
       "      <th>WTSCustomization</th>\n",
       "      <th>WantOwnPersonalization</th>\n",
       "      <th>WTSPersonalization</th>\n",
       "      <th>PersonalizationJob</th>\n",
       "    </tr>\n",
       "  </thead>\n",
       "  <tbody>\n",
       "    <tr>\n",
       "      <th>0</th>\n",
       "      <td>1</td>\n",
       "      <td>25</td>\n",
       "      <td>Male</td>\n",
       "      <td>Do not own a car, but planning to purchase in ...</td>\n",
       "      <td>Single</td>\n",
       "      <td>Price;Technological features;Functionality</td>\n",
       "      <td>Very likely</td>\n",
       "      <td>Wheels;Grilles</td>\n",
       "      <td>Steering wheel;Dashboard</td>\n",
       "      <td>750</td>\n",
       "      <td>No</td>\n",
       "      <td>750</td>\n",
       "      <td>NaN</td>\n",
       "    </tr>\n",
       "  </tbody>\n",
       "</table>\n",
       "</div>"
      ],
      "text/plain": [
       "   No.  Age Gender                                           Category  \\\n",
       "0    1   25   Male  Do not own a car, but planning to purchase in ...   \n",
       "\n",
       "  MarriageStatus                             FactorsPurchase  \\\n",
       "0         Single  Price;Technological features;Functionality   \n",
       "\n",
       "  FreeCustomization ExteriorComponents        InteriorComponents  \\\n",
       "0       Very likely     Wheels;Grilles  Steering wheel;Dashboard   \n",
       "\n",
       "   WTSCustomization WantOwnPersonalization  WTSPersonalization  \\\n",
       "0               750                     No                 750   \n",
       "\n",
       "  PersonalizationJob  \n",
       "0                NaN  "
      ]
     },
     "execution_count": 5,
     "metadata": {},
     "output_type": "execute_result"
    }
   ],
   "source": [
    "df_number = df.copy()\n",
    "\n",
    "age_conversion = {\"20-30\": 25, \"31-40\": 35, \"41-50\": 45, \"51-60\": 55}\n",
    "WTS_conversion = {\"0\": 0, \"under 500\": 500, \"500-1000\": 750, \"over 1000\": 1250}\n",
    "\n",
    "df_number[\"Age\"] = df_number[\"Age\"].apply(lambda x: age_conversion[x])\n",
    "df_number[\"WTSCustomization\"] = df_number[\"WTSCustomization\"].apply(lambda x: WTS_conversion[x])\n",
    "df_number[\"WTSPersonalization\"] = df_number[\"WTSPersonalization\"].apply(lambda x: WTS_conversion[x])\n",
    "\n",
    "df_number.head(1)\n"
   ]
  },
  {
   "cell_type": "code",
   "execution_count": 6,
   "metadata": {},
   "outputs": [
    {
     "data": {
      "text/html": [
       "<div>\n",
       "<style scoped>\n",
       "    .dataframe tbody tr th:only-of-type {\n",
       "        vertical-align: middle;\n",
       "    }\n",
       "\n",
       "    .dataframe tbody tr th {\n",
       "        vertical-align: top;\n",
       "    }\n",
       "\n",
       "    .dataframe thead th {\n",
       "        text-align: right;\n",
       "    }\n",
       "</style>\n",
       "<table border=\"1\" class=\"dataframe\">\n",
       "  <thead>\n",
       "    <tr style=\"text-align: right;\">\n",
       "      <th></th>\n",
       "      <th>No.</th>\n",
       "      <th>Age</th>\n",
       "      <th>Gender</th>\n",
       "      <th>Category</th>\n",
       "      <th>MarriageStatus</th>\n",
       "      <th>FactorsPurchase</th>\n",
       "      <th>FreeCustomization</th>\n",
       "      <th>ExteriorComponents</th>\n",
       "      <th>InteriorComponents</th>\n",
       "      <th>WTSCustomization</th>\n",
       "      <th>WantOwnPersonalization</th>\n",
       "      <th>WTSPersonalization</th>\n",
       "      <th>PersonalizationJob</th>\n",
       "      <th>isMale</th>\n",
       "    </tr>\n",
       "  </thead>\n",
       "  <tbody>\n",
       "    <tr>\n",
       "      <th>0</th>\n",
       "      <td>1</td>\n",
       "      <td>25</td>\n",
       "      <td>Male</td>\n",
       "      <td>Do not own a car, but planning to purchase in ...</td>\n",
       "      <td>Single</td>\n",
       "      <td>Price;Technological features;Functionality</td>\n",
       "      <td>Very likely</td>\n",
       "      <td>Wheels;Grilles</td>\n",
       "      <td>Steering wheel;Dashboard</td>\n",
       "      <td>750</td>\n",
       "      <td>No</td>\n",
       "      <td>750</td>\n",
       "      <td>NaN</td>\n",
       "      <td>True</td>\n",
       "    </tr>\n",
       "  </tbody>\n",
       "</table>\n",
       "</div>"
      ],
      "text/plain": [
       "   No.  Age Gender                                           Category  \\\n",
       "0    1   25   Male  Do not own a car, but planning to purchase in ...   \n",
       "\n",
       "  MarriageStatus                             FactorsPurchase  \\\n",
       "0         Single  Price;Technological features;Functionality   \n",
       "\n",
       "  FreeCustomization ExteriorComponents        InteriorComponents  \\\n",
       "0       Very likely     Wheels;Grilles  Steering wheel;Dashboard   \n",
       "\n",
       "   WTSCustomization WantOwnPersonalization  WTSPersonalization  \\\n",
       "0               750                     No                 750   \n",
       "\n",
       "  PersonalizationJob  isMale  \n",
       "0                NaN    True  "
      ]
     },
     "execution_count": 6,
     "metadata": {},
     "output_type": "execute_result"
    }
   ],
   "source": [
    "df_number[\"isMale\"] = df_number[[\"Gender\"]] == \"Male\"\n",
    "\n",
    "df_number.head(1)"
   ]
  },
  {
   "cell_type": "code",
   "execution_count": 7,
   "metadata": {},
   "outputs": [
    {
     "data": {
      "text/plain": [
       "Text(0, 0.5, 'SSE')"
      ]
     },
     "execution_count": 7,
     "metadata": {},
     "output_type": "execute_result"
    },
    {
     "data": {
      "image/png": "[encoded data removed]",
      "text/plain": [
       "<Figure size 640x480 with 1 Axes>"
      ]
     },
     "metadata": {},
     "output_type": "display_data"
    }
   ],
   "source": [
    "scaled = StandardScaler().fit_transform(df_number[[\"WTSCustomization\", \"WTSPersonalization\"]].dropna())\n",
    "\n",
    "kmeans_kwargs = {\n",
    "    \"init\": \"random\",\n",
    "    \"n_init\": 10,\n",
    "    \"random_state\": 1,\n",
    "}\n",
    "\n",
    "sse = []\n",
    "for k in range(1, 11):\n",
    "    kmeans =  KMeans(n_clusters=k, **kmeans_kwargs)\n",
    "    kmeans.fit(scaled)\n",
    "    sse.append(kmeans.inertia_)\n",
    "\n",
    "plt.plot(range(1, 11), sse)\n",
    "plt.xticks(range(1, 11))\n",
    "plt.xlabel(\"Number of Clusters\")\n",
    "plt.ylabel(\"SSE\")\n",
    "# plt.show()"
   ]
  },
  {
   "cell_type": "code",
   "execution_count": 8,
   "metadata": {},
   "outputs": [],
   "source": [
    "#instantiate the k-means class, using optimal number of clusters\n",
    "kmeans = KMeans(init=\"random\", n_clusters=4, n_init=10, random_state=1)\n",
    "\n",
    "#fit k-means algorithm to data\n",
    "kmeans.fit(scaled)\n",
    "\n",
    "#view cluster assignments for each observation\n",
    "label = kmeans.labels_"
   ]
  },
  {
   "cell_type": "code",
   "execution_count": 9,
   "metadata": {},
   "outputs": [
    {
     "data": {
      "image/png": "[encoded data removed]",
      "text/plain": [
       "<Figure size 2000x2000 with 4 Axes>"
      ]
     },
     "metadata": {},
     "output_type": "display_data"
    }
   ],
   "source": [
    "plt.rcParams[\"figure.figsize\"] = (20,20)\n",
    "\n",
    "ax = plt.subplot(441)\n",
    "df.groupby(\"Age\").count()[[\"No.\"]].plot(kind='bar', ax=ax)\n",
    "ax = plt.subplot(442)\n",
    "df.groupby(\"Gender\").count()[[\"No.\"]].plot(kind='bar', ax=ax)\n",
    "ax = plt.subplot(443)\n",
    "df.groupby(\"MarriageStatus\").count()[[\"No.\"]].plot(kind='bar', ax=ax)\n",
    "ax = plt.subplot(444)\n",
    "df.groupby(\"Category\").count()[[\"No.\"]].plot(kind='bar', ax=ax)\n",
    "\n",
    "plt.show()"
   ]
  },
  {
   "cell_type": "code",
   "execution_count": 10,
   "metadata": {},
   "outputs": [],
   "source": [
    "plt.rcParams[\"figure.figsize\"] = (20,20)\n",
    "\n",
    "ax = plt.subplot(441)\n",
    "pd.crosstab(df['Age'], df['FreeCustomization']).plot(kind='bar', ax=ax)\n",
    "ax = plt.subplot(442)\n",
    "pd.crosstab(df['Gender'], df['FreeCustomization']).plot(kind='bar', ax=ax)\n",
    "ax = plt.subplot(443)\n",
    "pd.crosstab(df['MarriageStatus'], df['FreeCustomization']).plot(kind='bar', ax=ax)\n",
    "ax = plt.subplot(444)\n",
    "pd.crosstab(df['Category'], df['FreeCustomization']).plot(kind='bar', ax=ax)\n",
    "\n",
    "plt.show()"
   ]
  },
  {
   "cell_type": "code",
   "execution_count": null,
   "metadata": {},
   "outputs": [],
   "source": [
    "plt.rcParams[\"figure.figsize\"] = (20,20)\n",
    "\n",
    "ax = plt.subplot(441)\n",
    "pd.crosstab(df['Age'], df['WantOwnPersonalization']).plot(kind='bar', ax=ax)\n",
    "ax = plt.subplot(442)\n",
    "pd.crosstab(df['Gender'], df['WantOwnPersonalization']).plot(kind='bar', ax=ax)\n",
    "ax = plt.subplot(443)\n",
    "pd.crosstab(df['MarriageStatus'], df['WantOwnPersonalization']).plot(kind='bar', ax=ax)\n",
    "ax = plt.subplot(444)\n",
    "pd.crosstab(df['Category'], df['WantOwnPersonalization']).plot(kind='bar', ax=ax)\n",
    "\n",
    "plt.show()\n"
   ]
  },
  {
   "cell_type": "code",
   "execution_count": null,
   "metadata": {},
   "outputs": [],
   "source": [
    "plt.rcParams[\"figure.figsize\"] = (20,20)\n",
    "\n",
    "ax = plt.subplot(441)\n",
    "pd.crosstab(df['Age'], df['WTSCustomization']).plot(kind='bar', ax=ax)\n",
    "ax = plt.subplot(442)\n",
    "pd.crosstab(df['Gender'], df['WTSCustomization']).plot(kind='bar', ax=ax)\n",
    "ax = plt.subplot(443)\n",
    "pd.crosstab(df['MarriageStatus'], df['WTSCustomization']).plot(kind='bar', ax=ax)\n",
    "ax = plt.subplot(444)\n",
    "pd.crosstab(df['Category'], df['WTSCustomization']).plot(kind='bar', ax=ax)\n",
    "\n",
    "plt.show()"
   ]
  },
  {
   "cell_type": "code",
   "execution_count": null,
   "metadata": {},
   "outputs": [],
   "source": [
    "plt.rcParams[\"figure.figsize\"] = (20,20)\n",
    "\n",
    "ax = plt.subplot(441)\n",
    "pd.crosstab(df['Age'], df['WTSPersonalization']).plot(kind='bar', ax=ax)\n",
    "ax = plt.subplot(442)\n",
    "pd.crosstab(df['Gender'], df['WTSPersonalization']).plot(kind='bar', ax=ax)\n",
    "ax = plt.subplot(443)\n",
    "pd.crosstab(df['MarriageStatus'], df['WTSPersonalization']).plot(kind='bar', ax=ax)\n",
    "ax = plt.subplot(444)\n",
    "pd.crosstab(df['Category'], df['WTSPersonalization']).plot(kind='bar', ax=ax)\n",
    "\n",
    "plt.show()"
   ]
  },
  {
   "attachments": {},
   "cell_type": "markdown",
   "metadata": {},
   "source": [
    "### Association Rules"
   ]
  },
  {
   "cell_type": "code",
   "execution_count": null,
   "metadata": {},
   "outputs": [],
   "source": [
    "df_factor = df.assign(ind=df[\"FactorsPurchase\"].str.split(\";\"), dummy=1) \\\n",
    "    .explode('ind').pivot_table('dummy', 'No.', 'ind', fill_value=0).add_prefix('Feat_')\n",
    "\n",
    "df_factor.columns = [\"Factor_Aesthetics\", \"Factor_BrandName\", \"Factor_CustomizableOptions\", \n",
    "                        \"Factor_Functionality\", \"Factor_Price\", \"Factor_Size\",\n",
    "                        \"Factor_Sustainability\", \"Factor_Technological\"]\n",
    "\n",
    "freq_items1 = apriori(df_factor, min_support = 0.5, use_colnames=True)\n",
    "rules1 = association_rules(freq_items1, metric = \"lift\", min_threshold = 1)\n",
    "\n",
    "rules1"
   ]
  },
  {
   "cell_type": "code",
   "execution_count": null,
   "metadata": {},
   "outputs": [],
   "source": [
    "df_ext = df.assign(ind=df[\"ExteriorComponents\"].str.split(\";\"), dummy=1) \\\n",
    "    .explode('ind').pivot_table('dummy', 'No.', 'ind', fill_value=0).add_prefix('Ext_')\n",
    "\n",
    "df_ext.columns = [\"Ext_Bumpers\", \"Ext_Grilles\", \"Ext_Headlights\", \n",
    "                    \"Ext_SideMirrors\", \"Ext_Wheels\", \"Ext_BodyKit\"]\n",
    "\n",
    "freq_items2 = apriori(df_ext, min_support = 0.5, use_colnames=True)\n",
    "rules2 = association_rules(freq_items2, metric = \"lift\", min_threshold = 1)\n",
    "\n",
    "rules2"
   ]
  },
  {
   "cell_type": "code",
   "execution_count": null,
   "metadata": {},
   "outputs": [],
   "source": [
    "df_int = df.assign(ind=df[\"InteriorComponents\"].str.split(\";\"), dummy=1) \\\n",
    "    .explode('ind').pivot_table('dummy', 'No.', 'ind', fill_value=0).add_prefix('Int_')\n",
    "\n",
    "df_int.columns = [\"Int_CenterCompartment\", \"Int_Dashboard\", \"Int_DoorHandles\", \n",
    "                    \"Int_MusicPlayer\", \"Int_SteeringWheel\", \"Int_SunBlocker\", \n",
    "                    \"Int_AirVent\"]\n",
    "\n",
    "freq_items3 = apriori(df_int, min_support = 0.5, use_colnames=True)\n",
    "rules3 = association_rules(freq_items3, metric = \"lift\", min_threshold = 1)\n",
    "\n",
    "rules3"
   ]
  },
  {
   "cell_type": "code",
   "execution_count": null,
   "metadata": {},
   "outputs": [],
   "source": [
    "df.columns = [\"No.\", \"Age\", \"Gender\", \"Category\", \"MarriageStatus\", \n",
    "                \"FactorsPurchase\", \"FreeCustomization\", \"ExteriorComponents\", \n",
    "                \"InteriorComponents\", \"WTSCustomization\", \"WantOwnPersonalization\", \n",
    "                \"WTSPersonalization\", \"PersonalizationJob\"]\n",
    "\n",
    "df.head(1)"
   ]
  },
  {
   "cell_type": "code",
   "execution_count": null,
   "metadata": {},
   "outputs": [],
   "source": [
    "df_test = df[[\"No.\", \"Age\", \"Gender\", \"MarriageStatus\", \"FreeCustomization\", \"WantOwnPersonalization\", \"PersonalizationJob\"]]\n",
    "\n",
    "df_test[\"Married\"] = df_test[\"MarriageStatus\"] != \"Single\"\n",
    "df_test[\"Male\"] = df_test[\"Gender\"] == \"Male\"\n",
    "df_test[\"Younger40\"] = np.logical_or(df_test[\"Age\"] == \"20-30\", df_test[\"Age\"] == \"31-40\")\n",
    "df_test[\"FreeCustomization\"] = df_test[\"FreeCustomization\"] != \"Unlikely\"\n",
    "df_test[\"WantOwnPersonalization\"] = df_test[\"WantOwnPersonalization\"] != \"No\"\n",
    "df_test[\"PersonalizationJob\"] = df_test[\"PersonalizationJob\"] == \"Yes, I can design on my own\"\n",
    "\n",
    "del df_test[\"No.\"]\n",
    "del df_test[\"Age\"]\n",
    "del df_test[\"Gender\"]\n",
    "del df_test[\"MarriageStatus\"]"
   ]
  },
  {
   "cell_type": "code",
   "execution_count": null,
   "metadata": {},
   "outputs": [],
   "source": [
    "freq_items4 = apriori(df_test, min_support = 0.7, use_colnames=True)\n",
    "rules4 = association_rules(freq_items4, metric = \"lift\", min_threshold = 1)\n",
    "\n",
    "rules4"
   ]
  },
  {
   "cell_type": "code",
   "execution_count": null,
   "metadata": {},
   "outputs": [],
   "source": []
  }
 ],
 "metadata": {
  "kernelspec": {
   "display_name": "Python 3",
   "language": "python",
   "name": "python3"
  },
  "language_info": {
   "codemirror_mode": {
    "name": "ipython",
    "version": 3
   },
   "file_extension": ".py",
   "mimetype": "text/x-python",
   "name": "python",
   "nbconvert_exporter": "python",
   "pygments_lexer": "ipython3",
   "version": "3.9.13"
  },
  "orig_nbformat": 4,
  "vscode": {
   "interpreter": {
    "hash": "26d3762b9d0176b8fc882a207ad3a3c4ac6093affecc9a65d77d9c770ff8bf4c"
   }
  }
 },
 "nbformat": 4,
 "nbformat_minor": 2
}
